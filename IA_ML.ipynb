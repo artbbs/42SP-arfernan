{
  "nbformat": 4,
  "nbformat_minor": 0,
  "metadata": {
    "colab": {
      "name": "IA_ML.ipynb",
      "provenance": [],
      "collapsed_sections": [],
      "authorship_tag": "ABX9TyPKtww0E1hQcO5kqQldUTAE",
      "include_colab_link": true
    },
    "kernelspec": {
      "name": "python3",
      "display_name": "Python 3"
    },
    "language_info": {
      "name": "python"
    }
  },
  "cells": [
    {
      "cell_type": "markdown",
      "metadata": {
        "id": "view-in-github",
        "colab_type": "text"
      },
      "source": [
        "<a href=\"https://colab.research.google.com/github/artbbs/42SP-arfernan/blob/main/IA_ML.ipynb\" target=\"_parent\"><img src=\"https://colab.research.google.com/assets/colab-badge.svg\" alt=\"Open In Colab\"/></a>"
      ]
    },
    {
      "cell_type": "code",
      "execution_count": 67,
      "metadata": {
        "id": "ho9wCWKrPn_B"
      },
      "outputs": [],
      "source": [
        "#ENGENHARIA DE ATRIBUTOS\n",
        "\n",
        "import scipy.stats as stats #coletar estatísticas\n",
        "import numpy as np # computação científica\n",
        "import pandas as pd # processamento de dados\n",
        "import matplotlib.pyplot as plt # visualização de dados\n",
        "import seaborn as sns # visualização de dados"
      ]
    },
    {
      "cell_type": "code",
      "source": [
        "#lê e carrega os dados em memoria\n",
        "url_dados = \"https://archive.ics.uci.edu/ml/machine-learning-databases/adult/adult.data\"\n",
        "colunas = ['age', 'workclass', 'fnlwgt', 'education', 'education-num', \n",
        "           'marital-status', 'occupation', 'relationship', 'race', 'sex', \n",
        "           'capital-gain', 'capital-loss', 'hours-per-week', 'native-country',\n",
        "           'income']\n",
        "dados = pd.read_csv(url_dados, header=None, sep=',', na_values=[' ?', '?', '? '],\n",
        "                    names=colunas)"
      ],
      "metadata": {
        "id": "vfMOh7EdQ637"
      },
      "execution_count": 68,
      "outputs": []
    },
    {
      "cell_type": "code",
      "source": [
        "#Exibe as primeiras linhas do conjunto de dados\n",
        "dados.head()"
      ],
      "metadata": {
        "id": "zApoFxGzUA38"
      },
      "execution_count": null,
      "outputs": []
    },
    {
      "cell_type": "code",
      "source": [
        "#Exibe informações sobre conjunto de dados carregado\n",
        "#Observamos: volume de dados, nome das colunas, tipode de dados e dados faltando\n",
        "dados.info()"
      ],
      "metadata": {
        "id": "q1ZRKZ3sUWmZ"
      },
      "execution_count": null,
      "outputs": []
    },
    {
      "cell_type": "code",
      "source": [
        "#ELIMINACAO DE ATRIBUTOS\n",
        "#Remove o atributo 'fnlwgt'\n",
        "dados.drop('fnlwgt', axis=1, inplace=True)\n",
        "#remove o atributo 'relationship'\n",
        "dados2 = dados.drop('relationship', axis=1, inplace=False)"
      ],
      "metadata": {
        "id": "2-SS1ZHdUue3"
      },
      "execution_count": 71,
      "outputs": []
    },
    {
      "cell_type": "code",
      "source": [
        "dados.head()"
      ],
      "metadata": {
        "id": "aUbwryHaU_yV"
      },
      "execution_count": null,
      "outputs": []
    },
    {
      "cell_type": "code",
      "source": [
        "#Plota a dristribuição de classes\n",
        "sns.displot(dados, x=\"income\", hue=\"income\")\n",
        "plt.show()"
      ],
      "metadata": {
        "id": "c_hCBbO4V6bi",
        "colab": {
          "base_uri": "https://localhost:8080/",
          "height": 369
        },
        "outputId": "99a24da4-6a8a-464d-85d9-717429d0f384"
      },
      "execution_count": 73,
      "outputs": [
        {
          "output_type": "display_data",
          "data": {
            "text/plain": [
              "<Figure size 434.875x360 with 1 Axes>"
            ],
            "image/png": "[encoded data removed]"
          },
          "metadata": {
            "needs_background": "light"
          }
        }
      ]
    },
    {
      "cell_type": "code",
      "source": [
        "#Divide o conjunto de dados pelas duas classes\n",
        "class_menor50 = dados[dados['income'] == ' <=50K']\n",
        "class_maior50 = dados[dados['income'] == ' >50K']\n",
        "#Exibe a quantidade de dados por classe\n",
        "print(\"<=50K:\", len(class_menor50))\n",
        "print(\">50K :\", len(class_maior50))"
      ],
      "metadata": {
        "colab": {
          "base_uri": "https://localhost:8080/"
        },
        "id": "e0tMJiOwWn7Z",
        "outputId": "9aa03836-87be-4371-b4af-cd58425bbfba"
      },
      "execution_count": 74,
      "outputs": [
        {
          "output_type": "stream",
          "name": "stdout",
          "text": [
            "<=50K: 24720\n",
            ">50K : 7841\n"
          ]
        }
      ]
    },
    {
      "cell_type": "code",
      "source": [
        "#Equilibra a classe majoritária (<=50)\n",
        "#conforme o tamanho da classe minoritária (>50)\n",
        "nova_class_menor50 = class_menor50.sample(len(class_maior50))\n",
        "novos_dados = pd.concat([nova_class_menor50, class_maior50], axis=0)\n",
        "novos_dados.head()"
      ],
      "metadata": {
        "id": "xlEbd76MXe4H"
      },
      "execution_count": null,
      "outputs": []
    },
    {
      "cell_type": "code",
      "source": [
        "#Plota a nova distribuição de classes\n",
        "sns.displot(novos_dados, x=\"income\", hue=\"income\")\n",
        "plt.show()"
      ],
      "metadata": {
        "colab": {
          "base_uri": "https://localhost:8080/",
          "height": 369
        },
        "id": "95QcPw8lYXGK",
        "outputId": "4bed07e6-5ecd-451f-dde1-1f80e26d2845"
      },
      "execution_count": 76,
      "outputs": [
        {
          "output_type": "display_data",
          "data": {
            "text/plain": [
              "<Figure size 434.875x360 with 1 Axes>"
            ],
            "image/png": "[encoded data removed]"
          },
          "metadata": {
            "needs_background": "light"
          }
        }
      ]
    },
    {
      "cell_type": "code",
      "source": [
        "#TRATAMENTO DE DADOS RUIDOSOS\n",
        "#Identificando ruído no atributo 'hours-per-week'\n",
        "sns.boxplot(data=dados, x=\"hours-per-week\")\n",
        "plt.show()"
      ],
      "metadata": {
        "colab": {
          "base_uri": "https://localhost:8080/",
          "height": 279
        },
        "id": "Jjezx9e0Y4R7",
        "outputId": "8b90473a-6fae-442f-e0f6-6d6e3e25cb12"
      },
      "execution_count": 77,
      "outputs": [
        {
          "output_type": "display_data",
          "data": {
            "text/plain": [
              "<Figure size 432x288 with 1 Axes>"
            ],
            "image/png": "[encoded data removed]"
          },
          "metadata": {
            "needs_background": "light"
          }
        }
      ]
    },
    {
      "cell_type": "code",
      "source": [
        "#Identifica os objetos ruidosos no conjunto de dados\n",
        "x = stats.zscore(dados['hours-per-week'])\n",
        "print(\"Ruídos: \", len(dados[np.abs(x) > 3]))"
      ],
      "metadata": {
        "colab": {
          "base_uri": "https://localhost:8080/"
        },
        "id": "XROJe1LJhV4j",
        "outputId": "59bfa22b-9504-4f18-84f9-b5309f7c1402"
      },
      "execution_count": 78,
      "outputs": [
        {
          "output_type": "stream",
          "name": "stdout",
          "text": [
            "Ruídos:  440\n"
          ]
        }
      ]
    },
    {
      "cell_type": "code",
      "source": [
        "#Substitui o valor ruidoso pelo valor médio do atributo\n",
        "dados.loc[np.abs(x) > 3, 'hours-per-week'] = int(np.mean(dados['hours-per-week']))"
      ],
      "metadata": {
        "id": "wN1kywDjfK6w"
      },
      "execution_count": 79,
      "outputs": []
    },
    {
      "cell_type": "code",
      "source": [
        "#Transforma os valores nominais do atributo binário 'income' em valores numéricos\n",
        "dados['income-num'] = dados['income'].map({\" <=50K\": 0, \" >50K\": 1})\n",
        "dados.head(10)"
      ],
      "metadata": {
        "id": "S05xjUB9hP_w"
      },
      "execution_count": null,
      "outputs": []
    },
    {
      "cell_type": "code",
      "source": [
        "#Transforma os valores nominais do atributo binário 'iracencome' em valores numérico\n",
        "trans_dados = pd.get_dummies(dados[['race']])\n",
        "trans_dados = pd.concat([dados['race'], trans_dados], axis=1)\n",
        "trans_dados.head()"
      ],
      "metadata": {
        "id": "-3IaMHgSikDc"
      },
      "execution_count": null,
      "outputs": []
    },
    {
      "cell_type": "code",
      "source": [
        "#Transforma os valores numéricos do atributo 'education-num' em valores nominais\n",
        "dados['education-num-nominal'] = dados['education-num'].map(\n",
        "                            {1:'Preschool',\n",
        "                             2: '1st-4th',\n",
        "                             3: '5th-6th',\n",
        "                             4: '7th-8th',\n",
        "                             5: '9th',\n",
        "                             6: '10th',\n",
        "                             7: '11th',\n",
        "                             8: '12th',\n",
        "                             9: 'HS-grad',\n",
        "                            10: 'Some-college',\n",
        "                            11: 'Assoc-voc',\n",
        "                            12: 'Assoc-acdm',\n",
        "                            13: 'Bachelors',\n",
        "                            14: 'Masters',\n",
        "                            15: 'Prof-school',\n",
        "                            16: 'Dostorate'})\n",
        "dados[['education', 'education-num', 'education-num-nominal']].head()"
      ],
      "metadata": {
        "id": "jrDDsWZXjg6s"
      },
      "execution_count": null,
      "outputs": []
    },
    {
      "cell_type": "code",
      "source": [
        "#biblioteca Featuretools  -  automatizar a engenharia de atributos\n",
        "# - Open source\n",
        "# - Pode usar junto com o pandas\n",
        "# - Atributos significantes em pouco tempo."
      ],
      "metadata": {
        "id": "XgSUT9SCq1L4"
      },
      "execution_count": 83,
      "outputs": []
    },
    {
      "cell_type": "code",
      "source": [
        ""
      ],
      "metadata": {
        "id": "H2lZHb-dRvg2"
      },
      "execution_count": null,
      "outputs": []
    },
    {
      "cell_type": "code",
      "source": [
        "#TÉCNICAS DE REAMOSTRAGEM"
      ],
      "metadata": {
        "id": "SlT6jmTiq8In"
      },
      "execution_count": null,
      "outputs": []
    },
    {
      "cell_type": "code",
      "source": [
        "import numpy as np\n",
        "from sklearn import datasets\n",
        "from sklearn.linear_model import LogisticRegression #modelo de regressao\n",
        "from sklearn.metrics import accuracy_score #acurácia\n",
        "from sklearn.model_selection import train_test_split #amostragem holdout\n",
        "from sklearn.model_selection import KFold #amostragem validação cruzada"
      ],
      "metadata": {
        "id": "DYV5AS7mRvPm"
      },
      "execution_count": 84,
      "outputs": []
    },
    {
      "cell_type": "code",
      "source": [
        "#Carrega os dados em memória e\n",
        "#Separa os dados em entrada e saída (x, y)\n",
        "wine = datasets.load_wine()\n",
        "x = wine.data\n",
        "y = wine.target"
      ],
      "metadata": {
        "id": "OEB0ldKaS9QY"
      },
      "execution_count": 85,
      "outputs": []
    },
    {
      "cell_type": "code",
      "source": [
        "print(\"# linhas : \", x.shape[0])\n",
        "print(\"# colunas: \", x.shape[1])\n",
        "print(\"# classes: \", len(np.unique(y)))"
      ],
      "metadata": {
        "colab": {
          "base_uri": "https://localhost:8080/"
        },
        "id": "FuEhiRtBTRGO",
        "outputId": "875b848c-39a4-47de-bace-f431fcf77792"
      },
      "execution_count": 86,
      "outputs": [
        {
          "output_type": "stream",
          "name": "stdout",
          "text": [
            "# linhas :  178\n",
            "# colunas:  13\n",
            "# classes:  3\n"
          ]
        }
      ]
    },
    {
      "cell_type": "code",
      "source": [
        "#separa a entrada/saída em subconjuntos de treinamento e teste\n",
        "x_train, x_test, y_train, y_test = train_test_split(x, y, test_size=0.4, random_state=42)"
      ],
      "metadata": {
        "id": "gFNQ3lEyTREF"
      },
      "execution_count": 87,
      "outputs": []
    },
    {
      "cell_type": "code",
      "source": [
        "print(\"Treinamento (60%): \", len(x_train))\n",
        "print(\"      Teste (40%): \", len(x_test))"
      ],
      "metadata": {
        "colab": {
          "base_uri": "https://localhost:8080/"
        },
        "id": "m-YFAun8TRBq",
        "outputId": "91e3379f-ee9b-464d-bb17-7752ddbb38e4"
      },
      "execution_count": 88,
      "outputs": [
        {
          "output_type": "stream",
          "name": "stdout",
          "text": [
            "Treinamento (60%):  106\n",
            "      Teste (40%):  72\n"
          ]
        }
      ]
    },
    {
      "cell_type": "code",
      "source": [
        "#Realiza a aprendizagem sobre o subconjunto de treinamento\n",
        "clf = LogisticRegression(solver='liblinear')\n",
        "clf.fit(x_train, y_train)"
      ],
      "metadata": {
        "colab": {
          "base_uri": "https://localhost:8080/"
        },
        "id": "fBLN_ye2TQ--",
        "outputId": "46bafc80-5172-4ad0-acb6-aad3540fd83d"
      },
      "execution_count": 89,
      "outputs": [
        {
          "output_type": "execute_result",
          "data": {
            "text/plain": [
              "LogisticRegression(solver='liblinear')"
            ]
          },
          "metadata": {},
          "execution_count": 89
        }
      ]
    },
    {
      "cell_type": "code",
      "source": [
        "#Classifica os dados não-vists no subconjunto de teste\n",
        "y_pred = clf.predict(x_test)"
      ],
      "metadata": {
        "id": "HzgdXziVTQ1_"
      },
      "execution_count": 90,
      "outputs": []
    },
    {
      "cell_type": "code",
      "source": [
        "#Compara resultado reais e preditos\n",
        "print(\"Acurácia: %.2f\" % accuracy_score(y_test, y_pred))"
      ],
      "metadata": {
        "colab": {
          "base_uri": "https://localhost:8080/"
        },
        "id": "1Fh2xNX3Vs10",
        "outputId": "7790ceee-5a32-48d7-8af7-e98aea199bb8"
      },
      "execution_count": 91,
      "outputs": [
        {
          "output_type": "stream",
          "name": "stdout",
          "text": [
            "Acurácia: 0.93\n"
          ]
        }
      ]
    },
    {
      "cell_type": "code",
      "source": [
        "acc = []\n",
        "\n",
        "#Realiza a aprendizagem por validação cruzada\n",
        "Kf = KFold(n_splits=5)\n",
        "\n",
        "for train_index, test_index in Kf.split(x):\n",
        "  #Constroi os subconjuntos de treinamento/teste para cada partição\n",
        "  x_train, y_train = x[train_index], y[train_index]\n",
        "  x_test, y_test = x[test_index], y[test_index]\n",
        "\n",
        "  #Realiza a aprendizagem sobre o conjunto de treinamento\n",
        "  #clf = DummyClassifier(strategy=\"prior\", random_state=42)\n",
        "  clf = LogisticRegression(solver='liblinear')\n",
        "  clf.fit(x_train, y_train)\n",
        "\n",
        "  #Classidica os dados não-vistos no subconjunto\n",
        "  y_pred = clf.predict(x_test)\n",
        "\n",
        "  #Calcula e armazena a acurácia do modelo atual\n",
        "  acc.append(accuracy_score(y_test, y_test))"
      ],
      "metadata": {
        "id": "hIHSlqI1Ww9m"
      },
      "execution_count": 92,
      "outputs": []
    },
    {
      "cell_type": "code",
      "source": [
        "print(\"Acurácia: %.2f +- %.2f\" % (np.mean(acc), np.std(acc)))"
      ],
      "metadata": {
        "colab": {
          "base_uri": "https://localhost:8080/"
        },
        "id": "fjWhGcP2Zbg2",
        "outputId": "f2858638-b46d-42ec-ba7d-d345e3238207"
      },
      "execution_count": 93,
      "outputs": [
        {
          "output_type": "stream",
          "name": "stdout",
          "text": [
            "Acurácia: 1.00 +- 0.00\n"
          ]
        }
      ]
    },
    {
      "cell_type": "code",
      "source": [
        "#Estratégias de Otimização\n",
        "\n",
        "import numpy as np\n",
        "from sklearn import datasets\n",
        "from sklearn.linear_model import LogisticRegression #Regressão logística\n",
        "from sklearn.metrics import accuracy_score #Técnica de Acurácia\n",
        "from sklearn.model_selection import GridSearchCV #Classe Grid...\n",
        "from sklearn.model_selection import RandomizedSearchCV #Classe Rando..."
      ],
      "metadata": {
        "id": "czVN7kWBIcAV"
      },
      "execution_count": 94,
      "outputs": []
    },
    {
      "cell_type": "code",
      "source": [
        "#DADOS EXPERIMENTAIS\n",
        "#Carrega os dados em memória e\n",
        "#Separa os dados em entrada (X) e saída (y)\n",
        "breast = datasets.load_breast_cancer()\n",
        "X = breast.data\n",
        "y = breast.target"
      ],
      "metadata": {
        "id": "lIWgf6m4JoRY"
      },
      "execution_count": 95,
      "outputs": []
    },
    {
      "cell_type": "code",
      "source": [
        "print(\"#Linhas  :\", X.shape[0])\n",
        "print(\"#Colunas :\", X.shape[1])\n",
        "print(\"#Classes :\", len(np.unique(y)))"
      ],
      "metadata": {
        "colab": {
          "base_uri": "https://localhost:8080/"
        },
        "id": "7IhpFkaBLG5L",
        "outputId": "fd04de29-cd59-4879-dc61-00a56c5e2373"
      },
      "execution_count": 96,
      "outputs": [
        {
          "output_type": "stream",
          "name": "stdout",
          "text": [
            "#Linhas  : 569\n",
            "#Colunas : 30\n",
            "#Classes : 2\n"
          ]
        }
      ]
    },
    {
      "cell_type": "code",
      "source": [
        "logreg = LogisticRegression(random_state=42, n_jobs=-1)"
      ],
      "metadata": {
        "id": "-BylsaZ1JoO3"
      },
      "execution_count": 97,
      "outputs": []
    },
    {
      "cell_type": "code",
      "source": [
        "#BUSCA EM GRADE"
      ],
      "metadata": {
        "id": "6Fp14iwtJoMO"
      },
      "execution_count": 45,
      "outputs": []
    },
    {
      "cell_type": "code",
      "source": [
        "#Define os hiperparâmetros do algoritimo\n",
        "parametros = {\n",
        "    'penalty': ['l2'], #['l1', 'l2'],\n",
        "    'C': [0.25, 0.5, 0.75, 1.0],\n",
        "    'solver': ['newton-cg', 'lbfgs', 'liblinear']\n",
        "}"
      ],
      "metadata": {
        "id": "uhA2kk7CJoJm"
      },
      "execution_count": 126,
      "outputs": []
    },
    {
      "cell_type": "code",
      "source": [
        "#Prepara a busca em grade\n",
        "#Utilizando a validação cruzada com 10 particoes\n",
        "clf = GridSearchCV(estimator=logreg,\n",
        "                   param_grid=parametros,\n",
        "                   scoring=['accuracy', 'average_precision'],\n",
        "                   refit='accuracy',\n",
        "                   cv=10,\n",
        "                   verbose=2,\n",
        "                   n_jobs=-1)"
      ],
      "metadata": {
        "id": "8YTM0HMzMqVe"
      },
      "execution_count": 127,
      "outputs": []
    },
    {
      "cell_type": "code",
      "source": [
        "#Ajusta o modelo aos dados\n",
        "clf.fit(X, y)"
      ],
      "metadata": {
        "colab": {
          "base_uri": "https://localhost:8080/"
        },
        "id": "bEEKYhNFNf8J",
        "outputId": "e05e00f6-2dcd-40cb-de4e-3be99311d93a"
      },
      "execution_count": 128,
      "outputs": [
        {
          "output_type": "stream",
          "name": "stdout",
          "text": [
            "Fitting 10 folds for each of 12 candidates, totalling 120 fits\n"
          ]
        },
        {
          "output_type": "execute_result",
          "data": {
            "text/plain": [
              "GridSearchCV(cv=10, estimator=LogisticRegression(n_jobs=-1, random_state=42),\n",
              "             n_jobs=-1,\n",
              "             param_grid={'C': [0.25, 0.5, 0.75, 1.0], 'penalty': ['l2'],\n",
              "                         'solver': ['newton-cg', 'lbfgs', 'liblinear']},\n",
              "             refit='accuracy', scoring=['accuracy', 'average_precision'],\n",
              "             verbose=2)"
            ]
          },
          "metadata": {},
          "execution_count": 128
        }
      ]
    },
    {
      "cell_type": "code",
      "source": [
        "clf.best_estimator_"
      ],
      "metadata": {
        "id": "Q4nXAqPcQ5KY",
        "colab": {
          "base_uri": "https://localhost:8080/"
        },
        "outputId": "b38ea3aa-d8ec-4f0c-f574-6ae93dcf4f23"
      },
      "execution_count": 129,
      "outputs": [
        {
          "output_type": "execute_result",
          "data": {
            "text/plain": [
              "LogisticRegression(C=0.75, n_jobs=-1, random_state=42, solver='newton-cg')"
            ]
          },
          "metadata": {},
          "execution_count": 129
        }
      ]
    },
    {
      "cell_type": "code",
      "source": [
        "#Exibe o melhor resultado\n",
        "print(\"Acurácia: %.2f\" % clf.best_score_)"
      ],
      "metadata": {
        "colab": {
          "base_uri": "https://localhost:8080/"
        },
        "id": "UouWywIsJoG-",
        "outputId": "24084136-cd07-40f8-bdcf-967b25b52ff9"
      },
      "execution_count": 130,
      "outputs": [
        {
          "output_type": "stream",
          "name": "stdout",
          "text": [
            "Acurácia: 0.96\n"
          ]
        }
      ]
    },
    {
      "cell_type": "code",
      "source": [
        "#BUSCA ALEATORIA"
      ],
      "metadata": {
        "id": "nzXwyYx3JoET"
      },
      "execution_count": 122,
      "outputs": []
    },
    {
      "cell_type": "code",
      "source": [
        "clf = RandomizedSearchCV(estimator=logreg,\n",
        "                         param_distributions=parametros,\n",
        "                         n_iter=10,\n",
        "                         scoring=['accuracy', 'average_precision'],\n",
        "                         refit='accuracy',\n",
        "                         verbose=2,\n",
        "                         n_jobs=-1)"
      ],
      "metadata": {
        "id": "pUx5mVbA6blK"
      },
      "execution_count": 131,
      "outputs": []
    },
    {
      "cell_type": "code",
      "source": [
        "#Ajusta modelo aos dados\n",
        "clf.fit(X, y)"
      ],
      "metadata": {
        "colab": {
          "base_uri": "https://localhost:8080/"
        },
        "id": "EiZxqEZv7_xB",
        "outputId": "f9e3f295-e0e3-4619-9565-c389ad2d666d"
      },
      "execution_count": 132,
      "outputs": [
        {
          "output_type": "stream",
          "name": "stdout",
          "text": [
            "Fitting 5 folds for each of 10 candidates, totalling 50 fits\n"
          ]
        },
        {
          "output_type": "stream",
          "name": "stderr",
          "text": [
            "/usr/local/lib/python3.7/dist-packages/sklearn/linear_model/_logistic.py:1526: UserWarning: 'n_jobs' > 1 does not have any effect when 'solver' is set to 'liblinear'. Got 'n_jobs' = 2.\n",
            "  \" = {}.\".format(effective_n_jobs(self.n_jobs))\n"
          ]
        },
        {
          "output_type": "execute_result",
          "data": {
            "text/plain": [
              "RandomizedSearchCV(estimator=LogisticRegression(n_jobs=-1, random_state=42),\n",
              "                   n_jobs=-1,\n",
              "                   param_distributions={'C': [0.25, 0.5, 0.75, 1.0],\n",
              "                                        'penalty': ['l2'],\n",
              "                                        'solver': ['newton-cg', 'lbfgs',\n",
              "                                                   'liblinear']},\n",
              "                   refit='accuracy', scoring=['accuracy', 'average_precision'],\n",
              "                   verbose=2)"
            ]
          },
          "metadata": {},
          "execution_count": 132
        }
      ]
    },
    {
      "cell_type": "code",
      "source": [
        "#Exibe os hiperparâmetros do melhor modelo constuído\n",
        "clf.best_estimator_"
      ],
      "metadata": {
        "colab": {
          "base_uri": "https://localhost:8080/"
        },
        "id": "Tx5yF0Vs7_o7",
        "outputId": "f9d4b347-68a8-48e3-ca61-e55fe0b51364"
      },
      "execution_count": 133,
      "outputs": [
        {
          "output_type": "execute_result",
          "data": {
            "text/plain": [
              "LogisticRegression(n_jobs=-1, random_state=42, solver='liblinear')"
            ]
          },
          "metadata": {},
          "execution_count": 133
        }
      ]
    },
    {
      "cell_type": "code",
      "source": [
        "#Exibe o melhor resultado \n",
        "print(\"Acurácia: %.2f\" % clf.best_score_)\n",
        "print(\"Acurácia: %.2f\" % clf.best_score_)"
      ],
      "metadata": {
        "colab": {
          "base_uri": "https://localhost:8080/"
        },
        "id": "xQBkbzSw7_gq",
        "outputId": "3279e4f9-63ec-47bf-e467-59cf045d2727"
      },
      "execution_count": 135,
      "outputs": [
        {
          "output_type": "stream",
          "name": "stdout",
          "text": [
            "Acurácia: 0.95\n",
            "Acurácia: 0.95\n"
          ]
        }
      ]
    },
    {
      "cell_type": "code",
      "source": [
        ""
      ],
      "metadata": {
        "id": "yrjAsaIgAFez"
      },
      "execution_count": null,
      "outputs": []
    },
    {
      "cell_type": "code",
      "source": [
        ""
      ],
      "metadata": {
        "id": "w1wx02wNBdEX"
      },
      "execution_count": null,
      "outputs": []
    },
    {
      "cell_type": "code",
      "source": [
        ""
      ],
      "metadata": {
        "id": "8qStkuhSBdNm"
      },
      "execution_count": null,
      "outputs": []
    }
  ]
}
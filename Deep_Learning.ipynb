{
  "nbformat": 4,
  "nbformat_minor": 0,
  "metadata": {
    "colab": {
      "name": "Deep Learning.ipynb",
      "provenance": [],
      "collapsed_sections": [],
      "authorship_tag": "ABX9TyPvsvuaC3OQGHHKZ2wVyn0d",
      "include_colab_link": true
    },
    "kernelspec": {
      "name": "python3",
      "display_name": "Python 3"
    },
    "language_info": {
      "name": "python"
    }
  },
  "cells": [
    {
      "cell_type": "markdown",
      "metadata": {
        "id": "view-in-github",
        "colab_type": "text"
      },
      "source": [
        "<a href=\"https://colab.research.google.com/github/artbbs/42SP-arfernan/blob/main/Deep_Learning.ipynb\" target=\"_parent\"><img src=\"https://colab.research.google.com/assets/colab-badge.svg\" alt=\"Open In Colab\"/></a>"
      ]
    },
    {
      "cell_type": "code",
      "execution_count": 2,
      "metadata": {
        "id": "u3peDhRZGI_z"
      },
      "outputs": [],
      "source": [
        "#PRÉ-PROCESSAMENTO DOS DADOS PARA REDES NEURAIS"
      ]
    },
    {
      "cell_type": "code",
      "source": [
        "#Carregar as Bibliotecas\n",
        "from sklearn import preprocessing\n",
        "import numpy as np"
      ],
      "metadata": {
        "id": "RoBJxB7cG3TV"
      },
      "execution_count": 3,
      "outputs": []
    },
    {
      "cell_type": "code",
      "source": [
        "#Criar atributo\n",
        "features = np.array([[-100.1, 3240.1],\n",
        "                     [-200.2, -234.1],\n",
        "                     [5000.5, 150.1],\n",
        "                     [6000.6, -125.1],\n",
        "                     [9000.9, -673.1]])"
      ],
      "metadata": {
        "id": "eY5c1IYjHnwx"
      },
      "execution_count": 4,
      "outputs": []
    },
    {
      "cell_type": "code",
      "source": [
        "features"
      ],
      "metadata": {
        "colab": {
          "base_uri": "https://localhost:8080/"
        },
        "id": "rNqrDHjAIOKS",
        "outputId": "00f77cea-439c-4522-910b-a4db149c7d73"
      },
      "execution_count": 11,
      "outputs": [
        {
          "output_type": "execute_result",
          "data": {
            "text/plain": [
              "array([[-100.1, 3240.1],\n",
              "       [-200.2, -234.1],\n",
              "       [5000.5,  150.1],\n",
              "       [6000.6, -125.1],\n",
              "       [9000.9, -673.1]])"
            ]
          },
          "metadata": {},
          "execution_count": 11
        }
      ]
    },
    {
      "cell_type": "code",
      "source": [
        "#Cria o objeto scaler\n",
        "scaler = preprocessing.StandardScaler()"
      ],
      "metadata": {
        "id": "nv04vWWLKKvc"
      },
      "execution_count": 7,
      "outputs": []
    },
    {
      "cell_type": "code",
      "source": [
        "#Transforma o atributo\n",
        "features_standardized = scaler.fit_transform(features)"
      ],
      "metadata": {
        "id": "1QLje5h4KaQ1"
      },
      "execution_count": 8,
      "outputs": []
    },
    {
      "cell_type": "code",
      "source": [
        "#Mostra o atributo\n",
        "features_standardized"
      ],
      "metadata": {
        "colab": {
          "base_uri": "https://localhost:8080/"
        },
        "id": "V9Ks8m91KqL2",
        "outputId": "29d955ee-a411-4dfc-ea54-402375858a3b"
      },
      "execution_count": 10,
      "outputs": [
        {
          "output_type": "execute_result",
          "data": {
            "text/plain": [
              "array([[-1.12541308,  1.96429418],\n",
              "       [-1.15329466, -0.50068741],\n",
              "       [ 0.29529406, -0.22809346],\n",
              "       [ 0.57385917, -0.42335076],\n",
              "       [ 1.40955451, -0.81216255]])"
            ]
          },
          "metadata": {},
          "execution_count": 10
        }
      ]
    },
    {
      "cell_type": "markdown",
      "source": [
        "PROJETANDO UMA REDE NEURAL ARTIFICIAL"
      ],
      "metadata": {
        "id": "ure7j-KkLbJr"
      }
    },
    {
      "cell_type": "code",
      "source": [
        "#Carregar as bibliotecas\n",
        "from keras import models\n",
        "from keras import layers"
      ],
      "metadata": {
        "id": "FOuAP8v-LgGb"
      },
      "execution_count": 12,
      "outputs": []
    },
    {
      "cell_type": "code",
      "source": [
        "#Instanciar a rede neural\n",
        "network = models.Sequential()"
      ],
      "metadata": {
        "id": "CCdCr5jCLtN6"
      },
      "execution_count": 13,
      "outputs": []
    },
    {
      "cell_type": "code",
      "source": [
        "#Adicionar uma camada totalmente conectada,\n",
        "#com a função de ativação ReLU\n",
        "network.add(layers.Dense(units=16, activation=\"relu\", input_shape=(10,)))"
      ],
      "metadata": {
        "id": "tE7fIFA8L8SK"
      },
      "execution_count": 17,
      "outputs": []
    },
    {
      "cell_type": "code",
      "source": [
        "#Adicionar uma segunda camada totalmente conectada,\n",
        "#com a função de ativação ReLU\n",
        "network.add(layers.Dense(units=16, activation=\"relu\"))"
      ],
      "metadata": {
        "id": "rj0werzfNnyM"
      },
      "execution_count": 18,
      "outputs": []
    },
    {
      "cell_type": "code",
      "source": [
        "#Adicionar uma terceira camada totalmente conectada,\n",
        "#com a função de ativação sigmoid\n",
        "network.add(layers.Dense(units=1, activation=\"sigmoid\"))"
      ],
      "metadata": {
        "id": "JFgUKFjzNpp7"
      },
      "execution_count": 21,
      "outputs": []
    },
    {
      "cell_type": "code",
      "source": [
        "#Compilar a rede neural\n",
        "network.compile(loss=\"binary_crossentropy\", #Cross-entropy\n",
        "                optimizer=\"rmsprop\", # Root Mean Square Propagation\n",
        "                metrics=[\"accuracy\"]) #Acurárcia como métrica de desempenho"
      ],
      "metadata": {
        "id": "Lkdo9d0gOBpS"
      },
      "execution_count": 23,
      "outputs": []
    }
  ]
}
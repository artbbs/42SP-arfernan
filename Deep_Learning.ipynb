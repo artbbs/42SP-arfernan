{
  "nbformat": 4,
  "nbformat_minor": 0,
  "metadata": {
    "colab": {
      "name": "Deep Learning.ipynb",
      "provenance": [],
      "collapsed_sections": [],
      "authorship_tag": "ABX9TyM1DcBCIUeU2wT0e7yKGQIO",
      "include_colab_link": true
    },
    "kernelspec": {
      "name": "python3",
      "display_name": "Python 3"
    },
    "language_info": {
      "name": "python"
    }
  },
  "cells": [
    {
      "cell_type": "markdown",
      "metadata": {
        "id": "view-in-github",
        "colab_type": "text"
      },
      "source": [
        "<a href=\"https://colab.research.google.com/github/artbbs/42SP-arfernan/blob/main/Deep_Learning.ipynb\" target=\"_parent\"><img src=\"https://colab.research.google.com/assets/colab-badge.svg\" alt=\"Open In Colab\"/></a>"
      ]
    },
    {
      "cell_type": "code",
      "execution_count": 93,
      "metadata": {
        "id": "u3peDhRZGI_z"
      },
      "outputs": [],
      "source": [
        "#PRÉ-PROCESSAMENTO DOS DADOS PARA REDES NEURAIS"
      ]
    },
    {
      "cell_type": "code",
      "source": [
        "#Carregar as Bibliotecas\n",
        "from sklearn import preprocessing\n",
        "import numpy as np"
      ],
      "metadata": {
        "id": "RoBJxB7cG3TV"
      },
      "execution_count": 94,
      "outputs": []
    },
    {
      "cell_type": "code",
      "source": [
        "#Criar atributo\n",
        "features = np.array([[-100.1, 3240.1],\n",
        "                     [-200.2, -234.1],\n",
        "                     [5000.5, 150.1],\n",
        "                     [6000.6, -125.1],\n",
        "                     [9000.9, -673.1]])"
      ],
      "metadata": {
        "id": "eY5c1IYjHnwx"
      },
      "execution_count": 95,
      "outputs": []
    },
    {
      "cell_type": "code",
      "source": [
        "features"
      ],
      "metadata": {
        "colab": {
          "base_uri": "https://localhost:8080/"
        },
        "id": "rNqrDHjAIOKS",
        "outputId": "c331523d-1bb0-4efb-fb6f-2feac94a002a"
      },
      "execution_count": 96,
      "outputs": [
        {
          "output_type": "execute_result",
          "data": {
            "text/plain": [
              "array([[-100.1, 3240.1],\n",
              "       [-200.2, -234.1],\n",
              "       [5000.5,  150.1],\n",
              "       [6000.6, -125.1],\n",
              "       [9000.9, -673.1]])"
            ]
          },
          "metadata": {},
          "execution_count": 96
        }
      ]
    },
    {
      "cell_type": "code",
      "source": [
        "#Cria o objeto scaler\n",
        "scaler = preprocessing.StandardScaler()"
      ],
      "metadata": {
        "id": "nv04vWWLKKvc"
      },
      "execution_count": 97,
      "outputs": []
    },
    {
      "cell_type": "code",
      "source": [
        "#Transforma o atributo\n",
        "features_standardized = scaler.fit_transform(features)"
      ],
      "metadata": {
        "id": "1QLje5h4KaQ1"
      },
      "execution_count": 98,
      "outputs": []
    },
    {
      "cell_type": "code",
      "source": [
        "#Mostra o atributo\n",
        "features_standardized"
      ],
      "metadata": {
        "colab": {
          "base_uri": "https://localhost:8080/"
        },
        "id": "V9Ks8m91KqL2",
        "outputId": "f5d62f02-dd11-46e4-a28c-bcb55757017d"
      },
      "execution_count": 99,
      "outputs": [
        {
          "output_type": "execute_result",
          "data": {
            "text/plain": [
              "array([[-1.12541308,  1.96429418],\n",
              "       [-1.15329466, -0.50068741],\n",
              "       [ 0.29529406, -0.22809346],\n",
              "       [ 0.57385917, -0.42335076],\n",
              "       [ 1.40955451, -0.81216255]])"
            ]
          },
          "metadata": {},
          "execution_count": 99
        }
      ]
    },
    {
      "cell_type": "markdown",
      "source": [
        "PROJETANDO UMA REDE NEURAL ARTIFICIAL"
      ],
      "metadata": {
        "id": "ure7j-KkLbJr"
      }
    },
    {
      "cell_type": "code",
      "source": [
        "#Carregar as bibliotecas\n",
        "from keras import models\n",
        "from keras import layers"
      ],
      "metadata": {
        "id": "FOuAP8v-LgGb"
      },
      "execution_count": 100,
      "outputs": []
    },
    {
      "cell_type": "code",
      "source": [
        "#Instanciar a rede neural\n",
        "network = models.Sequential()"
      ],
      "metadata": {
        "id": "CCdCr5jCLtN6"
      },
      "execution_count": 101,
      "outputs": []
    },
    {
      "cell_type": "code",
      "source": [
        "#Adicionar uma camada totalmente conectada,\n",
        "#com a função de ativação ReLU\n",
        "network.add(layers.Dense(units=16, activation=\"relu\", input_shape=(10,)))"
      ],
      "metadata": {
        "id": "tE7fIFA8L8SK"
      },
      "execution_count": 102,
      "outputs": []
    },
    {
      "cell_type": "code",
      "source": [
        "#Adicionar uma segunda camada totalmente conectada,\n",
        "#com a função de ativação ReLU\n",
        "network.add(layers.Dense(units=16, activation=\"relu\"))"
      ],
      "metadata": {
        "id": "rj0werzfNnyM"
      },
      "execution_count": 103,
      "outputs": []
    },
    {
      "cell_type": "code",
      "source": [
        "#Adicionar uma terceira camada totalmente conectada,\n",
        "#com a função de ativação sigmoid\n",
        "network.add(layers.Dense(units=1, activation=\"sigmoid\"))"
      ],
      "metadata": {
        "id": "JFgUKFjzNpp7"
      },
      "execution_count": 104,
      "outputs": []
    },
    {
      "cell_type": "code",
      "source": [
        "#Compilar a rede neural\n",
        "network.compile(loss=\"binary_crossentropy\", #Cross-entropy\n",
        "                optimizer=\"rmsprop\", # Root Mean Square Propagation\n",
        "                metrics=[\"accuracy\"]) #Acurárcia como métrica de desempenho"
      ],
      "metadata": {
        "id": "Lkdo9d0gOBpS"
      },
      "execution_count": 105,
      "outputs": []
    },
    {
      "cell_type": "code",
      "source": [
        "#Carregar as bibliotecas\n",
        "import numpy as np\n",
        "import keras as keras\n",
        "from keras.datasets import imdb\n",
        "from keras.preprocessing.text import Tokenizer\n",
        "from keras import models\n",
        "from keras import layers\n",
        "import warnings\n",
        "warnings.filterwarnings('ignore')"
      ],
      "metadata": {
        "id": "cUzzpPdIXB9z"
      },
      "execution_count": 106,
      "outputs": []
    },
    {
      "cell_type": "code",
      "source": [
        ""
      ],
      "metadata": {
        "id": "Oz7HFFGCc7KS"
      },
      "execution_count": 106,
      "outputs": []
    },
    {
      "cell_type": "code",
      "source": [
        "#Resetar o gerador de números randômicos\n",
        "np.random.seed(0)"
      ],
      "metadata": {
        "id": "mkO09KC9YB-N"
      },
      "execution_count": 107,
      "outputs": []
    },
    {
      "cell_type": "code",
      "source": [
        "#Definir o número de atributos (features)\n",
        "number_of_features = 1000"
      ],
      "metadata": {
        "id": "qRzAum7DYJrM"
      },
      "execution_count": 108,
      "outputs": []
    },
    {
      "cell_type": "code",
      "source": [
        "#Carregar os dados (conjunto de dados de avaliação de filmes)\n",
        "(data_train, target_train), (data_test, target_test) = imdb.load_data(num_words=number_of_features)"
      ],
      "metadata": {
        "id": "04237ONpYUhM"
      },
      "execution_count": 109,
      "outputs": []
    },
    {
      "cell_type": "code",
      "source": [
        "#Converter o formato dos dados para uma matriz de features\n",
        "tokenizer = Tokenizer(num_words=number_of_features)\n",
        "features_train = tokenizer.sequences_to_matrix(data_train, mode=\"binary\")\n",
        "features_test = tokenizer.sequences_to_matriz(data_test, mode=\"binary\")"
      ],
      "metadata": {
        "colab": {
          "base_uri": "https://localhost:8080/",
          "height": 200
        },
        "id": "4pWVf-6wXB0b",
        "outputId": "3dad915c-288e-481e-afc6-1d873feb3be3"
      },
      "execution_count": 110,
      "outputs": [
        {
          "output_type": "error",
          "ename": "AttributeError",
          "evalue": "ignored",
          "traceback": [
            "\u001b[0;31m---------------------------------------------------------------------------\u001b[0m",
            "\u001b[0;31mAttributeError\u001b[0m                            Traceback (most recent call last)",
            "\u001b[0;32m<ipython-input-110-a432216d77d3>\u001b[0m in \u001b[0;36m<module>\u001b[0;34m()\u001b[0m\n\u001b[1;32m      2\u001b[0m \u001b[0mtokenizer\u001b[0m \u001b[0;34m=\u001b[0m \u001b[0mTokenizer\u001b[0m\u001b[0;34m(\u001b[0m\u001b[0mnum_words\u001b[0m\u001b[0;34m=\u001b[0m\u001b[0mnumber_of_features\u001b[0m\u001b[0;34m)\u001b[0m\u001b[0;34m\u001b[0m\u001b[0;34m\u001b[0m\u001b[0m\n\u001b[1;32m      3\u001b[0m \u001b[0mfeatures_train\u001b[0m \u001b[0;34m=\u001b[0m \u001b[0mtokenizer\u001b[0m\u001b[0;34m.\u001b[0m\u001b[0msequences_to_matrix\u001b[0m\u001b[0;34m(\u001b[0m\u001b[0mdata_train\u001b[0m\u001b[0;34m,\u001b[0m \u001b[0mmode\u001b[0m\u001b[0;34m=\u001b[0m\u001b[0;34m\"binary\"\u001b[0m\u001b[0;34m)\u001b[0m\u001b[0;34m\u001b[0m\u001b[0;34m\u001b[0m\u001b[0m\n\u001b[0;32m----> 4\u001b[0;31m \u001b[0mfeatures_test\u001b[0m \u001b[0;34m=\u001b[0m \u001b[0mtokenizer\u001b[0m\u001b[0;34m.\u001b[0m\u001b[0msequences_to_matriz\u001b[0m\u001b[0;34m(\u001b[0m\u001b[0mdata_test\u001b[0m\u001b[0;34m,\u001b[0m \u001b[0mmode\u001b[0m\u001b[0;34m=\u001b[0m\u001b[0;34m\"binary\"\u001b[0m\u001b[0;34m)\u001b[0m\u001b[0;34m\u001b[0m\u001b[0;34m\u001b[0m\u001b[0m\n\u001b[0m",
            "\u001b[0;31mAttributeError\u001b[0m: 'Tokenizer' object has no attribute 'sequences_to_matriz'"
          ]
        }
      ]
    },
    {
      "cell_type": "code",
      "source": [
        "#Inatancia a rede neural\n",
        "network = models.Sequential()"
      ],
      "metadata": {
        "id": "93UJgihBZlQ9"
      },
      "execution_count": null,
      "outputs": []
    },
    {
      "cell_type": "code",
      "source": [
        "#Adicionar a primeira camada, com a função de ativação ReLU\n",
        "network.add(layers.Dense(units=16, activation=\"relu\", input_shape=(number_of_features,)))"
      ],
      "metadata": {
        "id": "sPMzwqEleF_l"
      },
      "execution_count": null,
      "outputs": []
    },
    {
      "cell_type": "code",
      "source": [
        "#Adicionar uma segunda camada totalmente conectada,\n",
        "#com a função de ativação ReLU\n",
        "network.add(layers.Dense(units=16, activation=\"relu\"))"
      ],
      "metadata": {
        "id": "0WWdzprVXBsu"
      },
      "execution_count": null,
      "outputs": []
    },
    {
      "cell_type": "code",
      "source": [
        "#Adicionar uma terceira camada totalmente conectada,\n",
        "#com a função de ativação sigmoid\n",
        "network.add(layers.Dense(units=1, activation=\"sigmoid\"))"
      ],
      "metadata": {
        "id": "X7scvoDkXBjd"
      },
      "execution_count": null,
      "outputs": []
    },
    {
      "cell_type": "code",
      "source": [
        "#Compilar a rede neural\n",
        "network.compile(loss=\"binary_crossentropy\", #Cross-entropy\n",
        "                optimizer=\"rmsprop\", # Root Mean Square Propagation\n",
        "                metrics=[\"accuracy\"]) #Acurárcia como métrica de desempenho"
      ],
      "metadata": {
        "id": "z7qlKs7gXBbd"
      },
      "execution_count": null,
      "outputs": []
    },
    {
      "cell_type": "code",
      "source": [
        "#Treinar a rede neural\n",
        "history = network.fit(features_train, #Atributos\n",
        "                      Target_train, #Classes\n",
        "                      epochs=3, #Número de éppoca\n",
        "                      verbose=1, #Imprimir imformações a cada época\n",
        "                      Batch_size=100, #Nº de observações a cada mini-lote\n",
        "                      validation_data=(features_test, target_test)) #Dados de teste"
      ],
      "metadata": {
        "id": "b8Jw-LvcXBSG"
      },
      "execution_count": null,
      "outputs": []
    }
  ]
}
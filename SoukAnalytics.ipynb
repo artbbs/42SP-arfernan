{
  "nbformat": 4,
  "nbformat_minor": 0,
  "metadata": {
    "colab": {
      "name": "SoukAnalytics.ipynb",
      "provenance": [],
      "collapsed_sections": [],
      "authorship_tag": "ABX9TyPkLDgS+DMy3sIXqOmMl/vB",
      "include_colab_link": true
    },
    "kernelspec": {
      "name": "python3",
      "display_name": "Python 3"
    },
    "language_info": {
      "name": "python"
    }
  },
  "cells": [
    {
      "cell_type": "markdown",
      "metadata": {
        "id": "view-in-github",
        "colab_type": "text"
      },
      "source": [
        "<a href=\"https://colab.research.google.com/github/artbbs/42SP-arfernan/blob/main/SoukAnalytics.ipynb\" target=\"_parent\"><img src=\"https://colab.research.google.com/assets/colab-badge.svg\" alt=\"Open In Colab\"/></a>"
      ]
    },
    {
      "cell_type": "code",
      "execution_count": 1,
      "metadata": {
        "colab": {
          "base_uri": "https://localhost:8080/"
        },
        "id": "QAtnXXwV2NN_",
        "outputId": "33046787-6f30-4ea7-c9ce-41fd156686da"
      },
      "outputs": [
        {
          "output_type": "stream",
          "name": "stdout",
          "text": [
            "bem vindo ao curso  de Python\n"
          ]
        }
      ],
      "source": [
        "print(\"bem vindo ao curso  de Python\")"
      ]
    },
    {
      "cell_type": "code",
      "source": [
        "print ('Bem vindo\\n devolta')"
      ],
      "metadata": {
        "colab": {
          "base_uri": "https://localhost:8080/"
        },
        "id": "0xoksPij85QO",
        "outputId": "f327a011-0381-4a59-ea09-76256be5a6a5"
      },
      "execution_count": 2,
      "outputs": [
        {
          "output_type": "stream",
          "name": "stdout",
          "text": [
            "Bem vindo\n",
            " devolta\n"
          ]
        }
      ]
    },
    {
      "cell_type": "code",
      "source": [
        "(2 + 2) * 5"
      ],
      "metadata": {
        "colab": {
          "base_uri": "https://localhost:8080/"
        },
        "id": "m9DC2Ia5_O36",
        "outputId": "c4426ace-b92d-4cf9-c4e0-d70c726a1e50"
      },
      "execution_count": 3,
      "outputs": [
        {
          "output_type": "execute_result",
          "data": {
            "text/plain": [
              "20"
            ]
          },
          "metadata": {},
          "execution_count": 3
        }
      ]
    },
    {
      "cell_type": "code",
      "source": [
        "nome = 'Um nome'"
      ],
      "metadata": {
        "id": "BCuzuluZBXdn"
      },
      "execution_count": 4,
      "outputs": []
    },
    {
      "cell_type": "code",
      "source": [
        "nome "
      ],
      "metadata": {
        "colab": {
          "base_uri": "https://localhost:8080/",
          "height": 35
        },
        "id": "Cbt3mYRiBd8i",
        "outputId": "b5fdb13c-2005-4f90-8d46-ea6af734e1f5"
      },
      "execution_count": 5,
      "outputs": [
        {
          "output_type": "execute_result",
          "data": {
            "text/plain": [
              "'Um nome'"
            ],
            "application/vnd.google.colaboratory.intrinsic+json": {
              "type": "string"
            }
          },
          "metadata": {},
          "execution_count": 5
        }
      ]
    },
    {
      "cell_type": "code",
      "source": [
        "estudo = str ('avaliação 99')"
      ],
      "metadata": {
        "id": "pZslPCNiBr7h"
      },
      "execution_count": 6,
      "outputs": []
    },
    {
      "cell_type": "code",
      "source": [
        "estudo"
      ],
      "metadata": {
        "colab": {
          "base_uri": "https://localhost:8080/",
          "height": 35
        },
        "id": "jT5oINRMBtyH",
        "outputId": "e2cfcf5d-50f0-4619-fc92-8aab3a5df4e4"
      },
      "execution_count": 7,
      "outputs": [
        {
          "output_type": "execute_result",
          "data": {
            "text/plain": [
              "'avaliação 99'"
            ],
            "application/vnd.google.colaboratory.intrinsic+json": {
              "type": "string"
            }
          },
          "metadata": {},
          "execution_count": 7
        }
      ]
    },
    {
      "cell_type": "code",
      "source": [
        "numeros = 111\n",
        "numero = int (100)\n",
        "print (numeros, numero, numero, numeros)"
      ],
      "metadata": {
        "colab": {
          "base_uri": "https://localhost:8080/"
        },
        "id": "xZMKnrygB6Dn",
        "outputId": "6700f560-77e7-4fa3-9e4c-53982c07a714"
      },
      "execution_count": 8,
      "outputs": [
        {
          "output_type": "stream",
          "name": "stdout",
          "text": [
            "111 100 100 111\n"
          ]
        }
      ]
    },
    {
      "cell_type": "code",
      "source": [
        "numeros"
      ],
      "metadata": {
        "colab": {
          "base_uri": "https://localhost:8080/"
        },
        "id": "h-wGy-DvEgW7",
        "outputId": "014ea1e9-54b5-4111-f9bb-027c2cfe758f"
      },
      "execution_count": 9,
      "outputs": [
        {
          "output_type": "execute_result",
          "data": {
            "text/plain": [
              "111"
            ]
          },
          "metadata": {},
          "execution_count": 9
        }
      ]
    },
    {
      "cell_type": "code",
      "source": [
        "flutuant = 11.20\n",
        "flutuante = float (12.20)\n",
        "print(flutuant, flutuante)"
      ],
      "metadata": {
        "colab": {
          "base_uri": "https://localhost:8080/"
        },
        "id": "eZC0nLNPFBRd",
        "outputId": "ff453beb-59e3-4cab-89f2-96a3a93ffe56"
      },
      "execution_count": 10,
      "outputs": [
        {
          "output_type": "stream",
          "name": "stdout",
          "text": [
            "11.2 12.2\n"
          ]
        }
      ]
    },
    {
      "cell_type": "code",
      "source": [
        "boole = True\n",
        "boolean = False\n",
        "print(boole, boolean)"
      ],
      "metadata": {
        "colab": {
          "base_uri": "https://localhost:8080/"
        },
        "id": "n8GEKQIZFrTE",
        "outputId": "10f0bff1-b2b0-407c-f0e2-7d0f81ae6ee4"
      },
      "execution_count": 11,
      "outputs": [
        {
          "output_type": "stream",
          "name": "stdout",
          "text": [
            "True False\n"
          ]
        }
      ]
    },
    {
      "cell_type": "code",
      "source": [
        "'''\n",
        "Tipos de dados\n",
        "Listas Colchetes []\n",
        "Tuplas Parênteses ()\n",
        "Dicionários Chaves {}\n",
        "'''"
      ],
      "metadata": {
        "colab": {
          "base_uri": "https://localhost:8080/",
          "height": 35
        },
        "id": "yepQAgSFGdPH",
        "outputId": "9b3e6da9-468b-419f-8251-c559179cbbda"
      },
      "execution_count": 13,
      "outputs": [
        {
          "output_type": "execute_result",
          "data": {
            "text/plain": [
              "'\\nTipos de dados\\nListas Colchetes []\\nTuplas Parênteses ()\\nDicionários Chaves {}\\n'"
            ],
            "application/vnd.google.colaboratory.intrinsic+json": {
              "type": "string"
            }
          },
          "metadata": {},
          "execution_count": 13
        }
      ]
    },
    {
      "cell_type": "code",
      "source": [
        "numero, nome, outro = '1', 'oleo', '4'\n",
        "print (numero, outro)"
      ],
      "metadata": {
        "colab": {
          "base_uri": "https://localhost:8080/"
        },
        "id": "nxNidCwUGyxw",
        "outputId": "fd990e03-aea2-4e86-fdfc-513968f48517"
      },
      "execution_count": 14,
      "outputs": [
        {
          "output_type": "stream",
          "name": "stdout",
          "text": [
            "1 4\n"
          ]
        }
      ]
    },
    {
      "cell_type": "code",
      "source": [
        "numer = nom = oth = 100\n",
        "print (nom, oth)"
      ],
      "metadata": {
        "colab": {
          "base_uri": "https://localhost:8080/"
        },
        "id": "YS5fhTusKvJB",
        "outputId": "72113d79-eb6f-450d-8ed6-016afed6dc75"
      },
      "execution_count": 15,
      "outputs": [
        {
          "output_type": "stream",
          "name": "stdout",
          "text": [
            "100 100\n"
          ]
        }
      ]
    },
    {
      "cell_type": "code",
      "source": [
        "lista_carros = ('vw', 'audi', 'tesla')\n",
        "marca01, marca02, marca03 = lista_carros\n",
        "print (marca01, marca02, marca03)"
      ],
      "metadata": {
        "colab": {
          "base_uri": "https://localhost:8080/"
        },
        "id": "mJURgQ6sLXcn",
        "outputId": "abb5334f-618a-48f4-9120-068f012e9ce0"
      },
      "execution_count": 16,
      "outputs": [
        {
          "output_type": "stream",
          "name": "stdout",
          "text": [
            "vw audi tesla\n"
          ]
        }
      ]
    },
    {
      "cell_type": "code",
      "source": [
        "print (marca01)"
      ],
      "metadata": {
        "colab": {
          "base_uri": "https://localhost:8080/"
        },
        "id": "OjMgMCwQL1Z1",
        "outputId": "58d8dc87-c4f2-4548-c565-4fa95ecf2572"
      },
      "execution_count": 17,
      "outputs": [
        {
          "output_type": "stream",
          "name": "stdout",
          "text": [
            "vw\n"
          ]
        }
      ]
    },
    {
      "cell_type": "code",
      "source": [
        "nome = 'art'\n",
        "sobrenome = 'barb'\n",
        "nome_completo = nome +' ' + outro + '_ ' + sobrenome + nome\n",
        "print (nome_completo)"
      ],
      "metadata": {
        "colab": {
          "base_uri": "https://localhost:8080/"
        },
        "id": "1RgagbGfL42u",
        "outputId": "0da6e03c-03b6-4ead-c143-7440f511154f"
      },
      "execution_count": 18,
      "outputs": [
        {
          "output_type": "stream",
          "name": "stdout",
          "text": [
            "art 4_ barbart\n"
          ]
        }
      ]
    },
    {
      "cell_type": "code",
      "source": [
        "nome = 'art'\n",
        "idade = str (50)\n",
        "nome + idade"
      ],
      "metadata": {
        "colab": {
          "base_uri": "https://localhost:8080/",
          "height": 35
        },
        "id": "_6Ocw6iRNJKj",
        "outputId": "d732d46c-447b-444b-f94e-5b330eb358a1"
      },
      "execution_count": 19,
      "outputs": [
        {
          "output_type": "execute_result",
          "data": {
            "text/plain": [
              "'art50'"
            ],
            "application/vnd.google.colaboratory.intrinsic+json": {
              "type": "string"
            }
          },
          "metadata": {},
          "execution_count": 19
        }
      ]
    },
    {
      "cell_type": "code",
      "source": [
        "invest = 1000\n",
        "txJur = float('0.2')\n",
        "\n",
        "\n",
        "print (invest * txJur)\n",
        "\n",
        "ganho = invest * txJur - invest\n",
        "\n",
        "print (ganho)"
      ],
      "metadata": {
        "colab": {
          "base_uri": "https://localhost:8080/"
        },
        "id": "FdcU_whRNjy8",
        "outputId": "bb688e73-8205-4adb-b674-d1fe795b3712"
      },
      "execution_count": 20,
      "outputs": [
        {
          "output_type": "stream",
          "name": "stdout",
          "text": [
            "200.0\n",
            "-800.0\n"
          ]
        }
      ]
    },
    {
      "cell_type": "code",
      "source": [
        "String = str ('Olá Mundo')\n",
        "inteiro= int(10)\n",
        "Flutuante=float(100.5)\n",
        "Complex = complex(1j)\n",
        "Lista =list(('Maça','Morango'))\n",
        "Tupla = tuple(('A', 'B'))\n",
        "Range =range (6)\n",
        "Dicionario = dict(nome= 'Art', age=50)\n",
        "Set = set(('A', 'B','C'))\n",
        "Booleano = bool(5)\n",
        "Bytes = bytes(5)\n",
        "ByteArray = bytearray(5)\n",
        "Memoryview= memoryview( bytes(5))\n",
        "\n",
        "from datetime import datetime\n",
        "Data = datetime.today().date()\n",
        "        #exemplos de tipo de dados\n",
        "valor_exemplo = 12.123456789123\n",
        "print(valor_exemplo)\n",
        "round (valor_exemplo, 5)"
      ],
      "metadata": {
        "colab": {
          "base_uri": "https://localhost:8080/"
        },
        "id": "RtNzwUWsSnJL",
        "outputId": "cd155797-1914-4465-aca5-f6c1c8fb5861"
      },
      "execution_count": 21,
      "outputs": [
        {
          "output_type": "stream",
          "name": "stdout",
          "text": [
            "12.123456789123\n"
          ]
        },
        {
          "output_type": "execute_result",
          "data": {
            "text/plain": [
              "12.12346"
            ]
          },
          "metadata": {},
          "execution_count": 21
        }
      ]
    },
    {
      "cell_type": "code",
      "source": [
        "Lista = [1, 2, 3, 4, 5, 6, 7, 8, 9, 10]\n",
        "Dicionario = {'Nome':'Art','Idade':50}\n",
        "Tupla = (1, 2, 3)\n",
        "String = 'olá mundo'"
      ],
      "metadata": {
        "id": "kdv-TqtZbwtz"
      },
      "execution_count": 22,
      "outputs": []
    },
    {
      "cell_type": "code",
      "source": [
        "len (Dicionario)"
      ],
      "metadata": {
        "colab": {
          "base_uri": "https://localhost:8080/"
        },
        "id": "hPegLJD8cwH6",
        "outputId": "e183fb01-d683-4ef0-afde-ccad4d1d0327"
      },
      "execution_count": 23,
      "outputs": [
        {
          "output_type": "execute_result",
          "data": {
            "text/plain": [
              "2"
            ]
          },
          "metadata": {},
          "execution_count": 23
        }
      ]
    },
    {
      "cell_type": "code",
      "source": [
        "len(String)"
      ],
      "metadata": {
        "colab": {
          "base_uri": "https://localhost:8080/"
        },
        "id": "GdqBIzv-dEOK",
        "outputId": "66262601-1d38-412f-b057-1124240d4c32"
      },
      "execution_count": 24,
      "outputs": [
        {
          "output_type": "execute_result",
          "data": {
            "text/plain": [
              "9"
            ]
          },
          "metadata": {},
          "execution_count": 24
        }
      ]
    },
    {
      "cell_type": "code",
      "source": [
        "Minha_String = 'Aprender Python é Top!'\n",
        "print(type(Minha_String))\n",
        "print(len(Minha_String))"
      ],
      "metadata": {
        "colab": {
          "base_uri": "https://localhost:8080/"
        },
        "id": "KBFffVZodKEo",
        "outputId": "d87ecfaa-0083-4456-9e50-8c5a06de0dea"
      },
      "execution_count": 25,
      "outputs": [
        {
          "output_type": "stream",
          "name": "stdout",
          "text": [
            "<class 'str'>\n",
            "22\n"
          ]
        }
      ]
    },
    {
      "cell_type": "code",
      "source": [
        "Minha_String[0]"
      ],
      "metadata": {
        "colab": {
          "base_uri": "https://localhost:8080/",
          "height": 35
        },
        "id": "HvHRggvBeNkW",
        "outputId": "b962e24a-e468-4055-b45e-2f07cbd3abe7"
      },
      "execution_count": 26,
      "outputs": [
        {
          "output_type": "execute_result",
          "data": {
            "text/plain": [
              "'A'"
            ],
            "application/vnd.google.colaboratory.intrinsic+json": {
              "type": "string"
            }
          },
          "metadata": {},
          "execution_count": 26
        }
      ]
    },
    {
      "cell_type": "code",
      "source": [
        "Minha_String[1]"
      ],
      "metadata": {
        "colab": {
          "base_uri": "https://localhost:8080/",
          "height": 35
        },
        "id": "I8M3op2GeTJE",
        "outputId": "608536b1-1031-4d64-eb33-ec1d8011d2f9"
      },
      "execution_count": 27,
      "outputs": [
        {
          "output_type": "execute_result",
          "data": {
            "text/plain": [
              "'p'"
            ],
            "application/vnd.google.colaboratory.intrinsic+json": {
              "type": "string"
            }
          },
          "metadata": {},
          "execution_count": 27
        }
      ]
    },
    {
      "cell_type": "code",
      "source": [
        "Minha_String[-1]"
      ],
      "metadata": {
        "colab": {
          "base_uri": "https://localhost:8080/",
          "height": 35
        },
        "id": "Ry6fqk0-eoO0",
        "outputId": "b1fe2c6f-f923-41d6-d37e-9efbf3cccbe8"
      },
      "execution_count": 28,
      "outputs": [
        {
          "output_type": "execute_result",
          "data": {
            "text/plain": [
              "'!'"
            ],
            "application/vnd.google.colaboratory.intrinsic+json": {
              "type": "string"
            }
          },
          "metadata": {},
          "execution_count": 28
        }
      ]
    },
    {
      "cell_type": "code",
      "source": [
        "Minha_String[-10:]"
      ],
      "metadata": {
        "colab": {
          "base_uri": "https://localhost:8080/",
          "height": 35
        },
        "id": "fnPuD9MWesQD",
        "outputId": "4d956e24-1014-432c-9b60-cf2174fb1306"
      },
      "execution_count": 29,
      "outputs": [
        {
          "output_type": "execute_result",
          "data": {
            "text/plain": [
              "'hon é Top!'"
            ],
            "application/vnd.google.colaboratory.intrinsic+json": {
              "type": "string"
            }
          },
          "metadata": {},
          "execution_count": 29
        }
      ]
    },
    {
      "cell_type": "code",
      "source": [
        "Minha_String[0:10]"
      ],
      "metadata": {
        "colab": {
          "base_uri": "https://localhost:8080/",
          "height": 35
        },
        "id": "JUazyWQbevt0",
        "outputId": "f261e22e-22e4-487a-fbcb-f75092335e1c"
      },
      "execution_count": 30,
      "outputs": [
        {
          "output_type": "execute_result",
          "data": {
            "text/plain": [
              "'Aprender P'"
            ],
            "application/vnd.google.colaboratory.intrinsic+json": {
              "type": "string"
            }
          },
          "metadata": {},
          "execution_count": 30
        }
      ]
    },
    {
      "cell_type": "code",
      "source": [
        "#manipular strings\n",
        "#replace()  --> substituir\n",
        "#startswith() --> compara com o início da string\n",
        "#endswith() --> compara com o fim da string\n",
        "#count()   --> contar palavras/letras\n",
        "#capitalize()  --> transformação\n",
        "#isdigit()   --> verifica se existe apenas valr numérico\n",
        "#isalnum()   -->  verifica se é alfanumerico\n",
        "#upper()  -->  trasnforma em maiúsculo\n",
        "#lower()  -->  transf em minúsculo\n",
        "#find()  -->  busca a localização na String\n",
        "#strip()  -->  remove espaço do início e fim de frases/palavras na string\n",
        "#split()  -->  "
      ],
      "metadata": {
        "id": "Ewkh61HXe6Nc"
      },
      "execution_count": 31,
      "outputs": []
    },
    {
      "cell_type": "code",
      "source": [
        "String='Olá Mundo!'\n",
        "print(String)"
      ],
      "metadata": {
        "colab": {
          "base_uri": "https://localhost:8080/"
        },
        "id": "95YKdWp2kg3d",
        "outputId": "366b27bd-057b-45fd-e1ff-772d0655a517"
      },
      "execution_count": 32,
      "outputs": [
        {
          "output_type": "stream",
          "name": "stdout",
          "text": [
            "Olá Mundo!\n"
          ]
        }
      ]
    },
    {
      "cell_type": "code",
      "source": [
        "len(String)"
      ],
      "metadata": {
        "colab": {
          "base_uri": "https://localhost:8080/"
        },
        "id": "-iUT2WEToiDF",
        "outputId": "4326d4c7-7abb-4dd1-a700-4b3f875beac0"
      },
      "execution_count": 33,
      "outputs": [
        {
          "output_type": "execute_result",
          "data": {
            "text/plain": [
              "10"
            ]
          },
          "metadata": {},
          "execution_count": 33
        }
      ]
    },
    {
      "cell_type": "code",
      "source": [
        "type(String)"
      ],
      "metadata": {
        "colab": {
          "base_uri": "https://localhost:8080/"
        },
        "id": "NDjJBRMjomy-",
        "outputId": "7e3325cd-5e13-47b9-9595-76f20de71d79"
      },
      "execution_count": 34,
      "outputs": [
        {
          "output_type": "execute_result",
          "data": {
            "text/plain": [
              "str"
            ]
          },
          "metadata": {},
          "execution_count": 34
        }
      ]
    },
    {
      "cell_type": "code",
      "source": [
        "String + 'concat'"
      ],
      "metadata": {
        "colab": {
          "base_uri": "https://localhost:8080/",
          "height": 35
        },
        "id": "qZNa3yA3qKI7",
        "outputId": "bc2f793a-030b-470f-96da-2e65a42c51f9"
      },
      "execution_count": 35,
      "outputs": [
        {
          "output_type": "execute_result",
          "data": {
            "text/plain": [
              "'Olá Mundo!concat'"
            ],
            "application/vnd.google.colaboratory.intrinsic+json": {
              "type": "string"
            }
          },
          "metadata": {},
          "execution_count": 35
        }
      ]
    },
    {
      "cell_type": "code",
      "source": [
        "from google.colab import drive\n",
        "drive.mount('/content/drive')"
      ],
      "metadata": {
        "colab": {
          "base_uri": "https://localhost:8080/"
        },
        "id": "1_2pW2qXPgIi",
        "outputId": "f84af16c-312e-43a6-afa4-6a42b967f94d"
      },
      "execution_count": 36,
      "outputs": [
        {
          "output_type": "stream",
          "name": "stdout",
          "text": [
            "Mounted at /content/drive\n"
          ]
        }
      ]
    },
    {
      "cell_type": "code",
      "source": [
        "String.replace('Mundo','MUNDO') # altera apenas no comando, a String permanece com o valor original"
      ],
      "metadata": {
        "colab": {
          "base_uri": "https://localhost:8080/",
          "height": 35
        },
        "id": "lCP71kZYqes6",
        "outputId": "d6ad20c6-aed3-4e08-cf4d-2a9c211304e0"
      },
      "execution_count": 37,
      "outputs": [
        {
          "output_type": "execute_result",
          "data": {
            "text/plain": [
              "'Olá MUNDO!'"
            ],
            "application/vnd.google.colaboratory.intrinsic+json": {
              "type": "string"
            }
          },
          "metadata": {},
          "execution_count": 37
        }
      ]
    },
    {
      "cell_type": "code",
      "source": [
        "print(String)"
      ],
      "metadata": {
        "colab": {
          "base_uri": "https://localhost:8080/"
        },
        "id": "JniKszEgq8WM",
        "outputId": "0a304e5e-b08a-4850-ba41-18df2f72dc48"
      },
      "execution_count": 38,
      "outputs": [
        {
          "output_type": "stream",
          "name": "stdout",
          "text": [
            "Olá Mundo!\n"
          ]
        }
      ]
    },
    {
      "cell_type": "code",
      "source": [
        "String.startswith('Ola')"
      ],
      "metadata": {
        "colab": {
          "base_uri": "https://localhost:8080/"
        },
        "id": "OQjz9Y3JrtZb",
        "outputId": "61ed35df-990e-481f-afb3-f37f34e75f88"
      },
      "execution_count": 39,
      "outputs": [
        {
          "output_type": "execute_result",
          "data": {
            "text/plain": [
              "False"
            ]
          },
          "metadata": {},
          "execution_count": 39
        }
      ]
    },
    {
      "cell_type": "code",
      "source": [
        "String.endswith('o!')"
      ],
      "metadata": {
        "colab": {
          "base_uri": "https://localhost:8080/"
        },
        "id": "eSYImlCmr6jS",
        "outputId": "bb3d0d24-7800-4f6f-c62a-377d67a5ba53"
      },
      "execution_count": 40,
      "outputs": [
        {
          "output_type": "execute_result",
          "data": {
            "text/plain": [
              "True"
            ]
          },
          "metadata": {},
          "execution_count": 40
        }
      ]
    },
    {
      "cell_type": "code",
      "source": [
        "String.count('á')"
      ],
      "metadata": {
        "colab": {
          "base_uri": "https://localhost:8080/"
        },
        "id": "Vf1182o7tuKM",
        "outputId": "552a2ee9-7b0c-4b84-8792-3f878fde55ef"
      },
      "execution_count": 41,
      "outputs": [
        {
          "output_type": "execute_result",
          "data": {
            "text/plain": [
              "1"
            ]
          },
          "metadata": {},
          "execution_count": 41
        }
      ]
    },
    {
      "cell_type": "code",
      "source": [
        "Nome = 'arthur'"
      ],
      "metadata": {
        "id": "Sagz2tjVuhpb"
      },
      "execution_count": 42,
      "outputs": []
    },
    {
      "cell_type": "code",
      "source": [
        "Nome.capitalize()"
      ],
      "metadata": {
        "colab": {
          "base_uri": "https://localhost:8080/",
          "height": 35
        },
        "id": "xp-sdHo-urCj",
        "outputId": "6d7a52af-5c7f-47a5-ac78-c080349bbee5"
      },
      "execution_count": 43,
      "outputs": [
        {
          "output_type": "execute_result",
          "data": {
            "text/plain": [
              "'Arthur'"
            ],
            "application/vnd.google.colaboratory.intrinsic+json": {
              "type": "string"
            }
          },
          "metadata": {},
          "execution_count": 43
        }
      ]
    },
    {
      "cell_type": "code",
      "source": [
        "print(Nome.capitalize())"
      ],
      "metadata": {
        "colab": {
          "base_uri": "https://localhost:8080/"
        },
        "id": "tXMVbBrnvD2S",
        "outputId": "0c4b7038-6331-4912-da50-72816a838a25"
      },
      "execution_count": 44,
      "outputs": [
        {
          "output_type": "stream",
          "name": "stdout",
          "text": [
            "Arthur\n"
          ]
        }
      ]
    },
    {
      "cell_type": "code",
      "source": [
        "String_SPF ='123456789'"
      ],
      "metadata": {
        "id": "f3cSGgYxvTqA"
      },
      "execution_count": 45,
      "outputs": []
    },
    {
      "cell_type": "code",
      "source": [
        "String_SPF.isdigit()"
      ],
      "metadata": {
        "colab": {
          "base_uri": "https://localhost:8080/"
        },
        "id": "pC2BaEUow2TY",
        "outputId": "15671039-4704-4fa9-cf39-9b20c316d490"
      },
      "execution_count": 46,
      "outputs": [
        {
          "output_type": "execute_result",
          "data": {
            "text/plain": [
              "True"
            ]
          },
          "metadata": {},
          "execution_count": 46
        }
      ]
    },
    {
      "cell_type": "code",
      "source": [
        "stg = 'abc123'\n",
        "\n",
        "stg.isalnum()"
      ],
      "metadata": {
        "colab": {
          "base_uri": "https://localhost:8080/"
        },
        "id": "tEe56YUX64N0",
        "outputId": "efbb8315-279c-432b-ed74-0f80bc08ee3b"
      },
      "execution_count": 47,
      "outputs": [
        {
          "output_type": "execute_result",
          "data": {
            "text/plain": [
              "True"
            ]
          },
          "metadata": {},
          "execution_count": 47
        }
      ]
    },
    {
      "cell_type": "code",
      "source": [
        "print(nome.upper())"
      ],
      "metadata": {
        "colab": {
          "base_uri": "https://localhost:8080/"
        },
        "id": "g40MXNAm7eYz",
        "outputId": "4c16ef57-1d38-43b1-aeaa-041c09c34ceb"
      },
      "execution_count": 48,
      "outputs": [
        {
          "output_type": "stream",
          "name": "stdout",
          "text": [
            "ART\n"
          ]
        }
      ]
    },
    {
      "cell_type": "code",
      "source": [
        "nom = 'ART'\n",
        "print(nom)"
      ],
      "metadata": {
        "colab": {
          "base_uri": "https://localhost:8080/"
        },
        "id": "HAxMovVt7yw1",
        "outputId": "d971c33a-4345-4fea-cb41-950269c8d5a3"
      },
      "execution_count": 49,
      "outputs": [
        {
          "output_type": "stream",
          "name": "stdout",
          "text": [
            "ART\n"
          ]
        }
      ]
    },
    {
      "cell_type": "code",
      "source": [
        "print(nom.lower())"
      ],
      "metadata": {
        "colab": {
          "base_uri": "https://localhost:8080/"
        },
        "id": "gHvOWMWH7_TB",
        "outputId": "e7d7307e-8603-4973-f1a1-7ff2e246bdf2"
      },
      "execution_count": 52,
      "outputs": [
        {
          "output_type": "stream",
          "name": "stdout",
          "text": [
            "art\n"
          ]
        }
      ]
    },
    {
      "cell_type": "code",
      "source": [
        "String.find('Mundo')"
      ],
      "metadata": {
        "colab": {
          "base_uri": "https://localhost:8080/"
        },
        "id": "dKMGnwaR8HxR",
        "outputId": "9a721828-48be-42bb-d2b6-88d496cc3a47"
      },
      "execution_count": 53,
      "outputs": [
        {
          "output_type": "execute_result",
          "data": {
            "text/plain": [
              "4"
            ]
          },
          "metadata": {},
          "execution_count": 53
        }
      ]
    },
    {
      "cell_type": "code",
      "source": [
        "end =' R Alexandria 1, SP '\n",
        "end"
      ],
      "metadata": {
        "colab": {
          "base_uri": "https://localhost:8080/",
          "height": 35
        },
        "id": "jgYhvauQ-Ba3",
        "outputId": "29741293-2f42-4bcb-e6f7-b697ac95c779"
      },
      "execution_count": 54,
      "outputs": [
        {
          "output_type": "execute_result",
          "data": {
            "text/plain": [
              "' R Alexandria 1, SP '"
            ],
            "application/vnd.google.colaboratory.intrinsic+json": {
              "type": "string"
            }
          },
          "metadata": {},
          "execution_count": 54
        }
      ]
    },
    {
      "cell_type": "code",
      "source": [
        "end.strip()"
      ],
      "metadata": {
        "colab": {
          "base_uri": "https://localhost:8080/",
          "height": 35
        },
        "id": "6NGgGQBT-M_R",
        "outputId": "435dcd64-9775-4765-ad5e-488f415a0f79"
      },
      "execution_count": 55,
      "outputs": [
        {
          "output_type": "execute_result",
          "data": {
            "text/plain": [
              "'R Alexandria 1, SP'"
            ],
            "application/vnd.google.colaboratory.intrinsic+json": {
              "type": "string"
            }
          },
          "metadata": {},
          "execution_count": 55
        }
      ]
    },
    {
      "cell_type": "code",
      "source": [
        "palavra = 'Rua Augusta, 150, Centro, SP'"
      ],
      "metadata": {
        "id": "TKWecsH8-cae"
      },
      "execution_count": 56,
      "outputs": []
    },
    {
      "cell_type": "code",
      "source": [
        "palavra.split(',')"
      ],
      "metadata": {
        "colab": {
          "base_uri": "https://localhost:8080/"
        },
        "id": "i87yw31X-xmG",
        "outputId": "ac7464e9-1fcf-4563-88d0-ec214b8d96fa"
      },
      "execution_count": 57,
      "outputs": [
        {
          "output_type": "execute_result",
          "data": {
            "text/plain": [
              "['Rua Augusta', ' 150', ' Centro', ' SP']"
            ]
          },
          "metadata": {},
          "execution_count": 57
        }
      ]
    },
    {
      "cell_type": "code",
      "source": [
        "#input\n",
        "input ('alguma mensagem!!!')"
      ],
      "metadata": {
        "colab": {
          "base_uri": "https://localhost:8080/",
          "height": 53
        },
        "id": "d8htYGRZHRrV",
        "outputId": "1e836436-4cb3-4c51-926d-e1701037e015"
      },
      "execution_count": 58,
      "outputs": [
        {
          "name": "stdout",
          "output_type": "stream",
          "text": [
            "alguma mensagem!!!oi\n"
          ]
        },
        {
          "output_type": "execute_result",
          "data": {
            "text/plain": [
              "'oi'"
            ],
            "application/vnd.google.colaboratory.intrinsic+json": {
              "type": "string"
            }
          },
          "metadata": {},
          "execution_count": 58
        }
      ]
    },
    {
      "cell_type": "code",
      "source": [
        "#Form\n",
        "nome = input ('Qual seu nome: ')\n",
        "idade = input ('Qual sua idade: ')\n",
        "\n",
        "print('Seu nome é:', nome)\n",
        "print('Sua idade é:', idade)"
      ],
      "metadata": {
        "colab": {
          "base_uri": "https://localhost:8080/"
        },
        "id": "pYN1i9YNHa5t",
        "outputId": "da897b64-fd8a-4c26-9006-1d7174ab1e4c"
      },
      "execution_count": 63,
      "outputs": [
        {
          "output_type": "stream",
          "name": "stdout",
          "text": [
            "Qual seu nome: arthur\n",
            "Qual sua idade: 50\n",
            "Seu nome é: arthur\n",
            "Sua idade é: 50\n"
          ]
        }
      ]
    },
    {
      "cell_type": "markdown",
      "source": [
        "Lógica \n",
        "'==' (igual a)\n",
        "'!= (diferente)\n",
        "'>' (maior)\n",
        "'<' (menor)\n",
        "'>=' (maior ou igual a )\n",
        "'<=' (menor ou ihual a)"
      ],
      "metadata": {
        "id": "uHTkL8kvIWjT"
      }
    },
    {
      "cell_type": "code",
      "source": [
        "10 <= 11"
      ],
      "metadata": {
        "colab": {
          "base_uri": "https://localhost:8080/"
        },
        "id": "-DLbf8vEIQ8r",
        "outputId": "aebd323d-7690-4a5c-9500-43cbb3df1d07"
      },
      "execution_count": 62,
      "outputs": [
        {
          "output_type": "execute_result",
          "data": {
            "text/plain": [
              "True"
            ]
          },
          "metadata": {},
          "execution_count": 62
        }
      ]
    },
    {
      "cell_type": "code",
      "source": [
        "#Operador lógicos   (and, or, not in, in)\n",
        "2 == 2 and 1 < 5"
      ],
      "metadata": {
        "colab": {
          "base_uri": "https://localhost:8080/"
        },
        "id": "b9eCXtePJYkI",
        "outputId": "0fc4b333-56fb-4382-9623-cee8e0da5a6a"
      },
      "execution_count": 64,
      "outputs": [
        {
          "output_type": "execute_result",
          "data": {
            "text/plain": [
              "True"
            ]
          },
          "metadata": {},
          "execution_count": 64
        }
      ]
    },
    {
      "cell_type": "code",
      "source": [
        "2 < 2 or 1 == 1"
      ],
      "metadata": {
        "colab": {
          "base_uri": "https://localhost:8080/"
        },
        "id": "pQukCAbZLa9r",
        "outputId": "ff5a7916-a041-46a5-81eb-f327cfbc414e"
      },
      "execution_count": 65,
      "outputs": [
        {
          "output_type": "execute_result",
          "data": {
            "text/plain": [
              "True"
            ]
          },
          "metadata": {},
          "execution_count": 65
        }
      ]
    },
    {
      "cell_type": "code",
      "source": [
        "lista = [1,2,3,4]"
      ],
      "metadata": {
        "id": "5RyD5OR-MFMv"
      },
      "execution_count": 66,
      "outputs": []
    },
    {
      "cell_type": "code",
      "source": [
        "2 not in lista"
      ],
      "metadata": {
        "colab": {
          "base_uri": "https://localhost:8080/"
        },
        "id": "cGKwq32xMLEF",
        "outputId": "fee5abe3-1e3d-4b44-e7c2-645f376db387"
      },
      "execution_count": 67,
      "outputs": [
        {
          "output_type": "execute_result",
          "data": {
            "text/plain": [
              "False"
            ]
          },
          "metadata": {},
          "execution_count": 67
        }
      ]
    },
    {
      "cell_type": "code",
      "source": [
        "2 in lista"
      ],
      "metadata": {
        "colab": {
          "base_uri": "https://localhost:8080/"
        },
        "id": "nFG6Q7QnMdnN",
        "outputId": "2928c286-ffcc-4e80-a77c-29ca5e3e1742"
      },
      "execution_count": 68,
      "outputs": [
        {
          "output_type": "execute_result",
          "data": {
            "text/plain": [
              "True"
            ]
          },
          "metadata": {},
          "execution_count": 68
        }
      ]
    },
    {
      "cell_type": "code",
      "source": [
        "#Operadores de Identidade"
      ],
      "metadata": {
        "id": "_rjGwl2IMfuv"
      },
      "execution_count": 69,
      "outputs": []
    },
    {
      "cell_type": "code",
      "source": [
        "escr = 'alice'\n",
        "escre = 'thais'"
      ],
      "metadata": {
        "id": "liq4oTTJeLHJ"
      },
      "execution_count": 70,
      "outputs": []
    },
    {
      "cell_type": "code",
      "source": [
        "print(escr, 'e', escre)"
      ],
      "metadata": {
        "colab": {
          "base_uri": "https://localhost:8080/"
        },
        "id": "coZecXynXLGB",
        "outputId": "666a13a6-8542-4f06-ae12-bb57d2650893"
      },
      "execution_count": 71,
      "outputs": [
        {
          "output_type": "stream",
          "name": "stdout",
          "text": [
            "alice e thais\n"
          ]
        }
      ]
    },
    {
      "cell_type": "code",
      "source": [
        "String_01 = 'Olá Mundão!'\n",
        "String_02 = 'Olá Mundão!'"
      ],
      "metadata": {
        "id": "9WGPei690HQf"
      },
      "execution_count": 72,
      "outputs": []
    },
    {
      "cell_type": "code",
      "source": [
        "type(String_01) == type(String_02)"
      ],
      "metadata": {
        "colab": {
          "base_uri": "https://localhost:8080/"
        },
        "id": "gduVBnNJ0Xdl",
        "outputId": "d6947f27-af8a-4aec-bc1c-6f457b636104"
      },
      "execution_count": 73,
      "outputs": [
        {
          "output_type": "execute_result",
          "data": {
            "text/plain": [
              "True"
            ]
          },
          "metadata": {},
          "execution_count": 73
        }
      ]
    },
    {
      "cell_type": "code",
      "source": [
        "type(String_01) is type(String_02)"
      ],
      "metadata": {
        "colab": {
          "base_uri": "https://localhost:8080/"
        },
        "id": "Fk7ZBJt-01oL",
        "outputId": "6a291de6-5d70-4ab5-c801-e3182b66b6a5"
      },
      "execution_count": 74,
      "outputs": [
        {
          "output_type": "execute_result",
          "data": {
            "text/plain": [
              "True"
            ]
          },
          "metadata": {},
          "execution_count": 74
        }
      ]
    },
    {
      "cell_type": "code",
      "source": [
        "#in  //  not in"
      ],
      "metadata": {
        "id": "cD4OoSSS04zb"
      },
      "execution_count": 75,
      "outputs": []
    },
    {
      "cell_type": "code",
      "source": [
        "Lista_Ações = ['Magalu','Via','Carrefour']"
      ],
      "metadata": {
        "id": "0X7rPgwo1JLf"
      },
      "execution_count": 76,
      "outputs": []
    },
    {
      "cell_type": "code",
      "source": [
        "'Via' in Lista_Ações"
      ],
      "metadata": {
        "colab": {
          "base_uri": "https://localhost:8080/"
        },
        "id": "4xpIEsy01ZZO",
        "outputId": "3ac32980-47b6-4e4f-9d1a-6252a0e61881"
      },
      "execution_count": 77,
      "outputs": [
        {
          "output_type": "execute_result",
          "data": {
            "text/plain": [
              "True"
            ]
          },
          "metadata": {},
          "execution_count": 77
        }
      ]
    },
    {
      "cell_type": "code",
      "source": [
        "'zz' not in Lista_Ações"
      ],
      "metadata": {
        "colab": {
          "base_uri": "https://localhost:8080/"
        },
        "id": "3MVXk82c1iAT",
        "outputId": "59719e16-6ca4-44ce-8cf6-766c87c68e23"
      },
      "execution_count": 78,
      "outputs": [
        {
          "output_type": "execute_result",
          "data": {
            "text/plain": [
              "True"
            ]
          },
          "metadata": {},
          "execution_count": 78
        }
      ]
    },
    {
      "cell_type": "code",
      "source": [
        "#manipulaçao de listas\n",
        "#append () - Para adicionar um item ao final da lista\n",
        "#len() - Calcular o tamanho da lista\n",
        "# [] Acessar posições\n",
        "# del() - Excluir um elemento\n",
        "#clear() - Limpar a lista\n",
        "#insert() - Para inserir um item de lista em um índice específico\n",
        "#extend() - Anexar elementos de outra lista à lista atual\n",
        "#remove() - Remove o item específicado\n",
        "#pop() - Remove o ṕindice especificado\n",
        "#sort() - Ordena os valores\n",
        "#copy() - faz uma cópia da lista\n",
        "#index() - Retorna o index do elemento da lista"
      ],
      "metadata": {
        "id": "X3ouDJ_L1pRV"
      },
      "execution_count": 79,
      "outputs": []
    },
    {
      "cell_type": "code",
      "source": [
        "Lista_Vazia = []\n",
        "print(Lista_Vazia)"
      ],
      "metadata": {
        "colab": {
          "base_uri": "https://localhost:8080/"
        },
        "id": "TuKEN8hR3YGI",
        "outputId": "d31f5748-4155-4695-a316-845a60edd498"
      },
      "execution_count": 80,
      "outputs": [
        {
          "output_type": "stream",
          "name": "stdout",
          "text": [
            "[]\n"
          ]
        }
      ]
    },
    {
      "cell_type": "code",
      "source": [
        "Lista_Vazia.append(1)\n",
        "Lista_Vazia.append(2)\n",
        "Lista_Vazia.append(3)\n",
        "Lista_Vazia.append('Valor')"
      ],
      "metadata": {
        "id": "jKY3Kxbj3olP"
      },
      "execution_count": 81,
      "outputs": []
    },
    {
      "cell_type": "code",
      "source": [
        "print(Lista_Vazia)"
      ],
      "metadata": {
        "colab": {
          "base_uri": "https://localhost:8080/"
        },
        "id": "nQa890st3xte",
        "outputId": "c58c9e20-98ed-4305-b85c-4ffeebc61f67"
      },
      "execution_count": 82,
      "outputs": [
        {
          "output_type": "stream",
          "name": "stdout",
          "text": [
            "[1, 2, 3, 'Valor']\n"
          ]
        }
      ]
    },
    {
      "cell_type": "code",
      "source": [
        "len(Lista_Vazia)"
      ],
      "metadata": {
        "colab": {
          "base_uri": "https://localhost:8080/"
        },
        "id": "6ABuprve4QNo",
        "outputId": "5b231872-a57b-449f-8e66-bcd9b1037a19"
      },
      "execution_count": 83,
      "outputs": [
        {
          "output_type": "execute_result",
          "data": {
            "text/plain": [
              "4"
            ]
          },
          "metadata": {},
          "execution_count": 83
        }
      ]
    },
    {
      "cell_type": "code",
      "source": [
        "#acessar\n",
        "#começa no zero !!!\n",
        "Lista_Vazia[0] #posição / index"
      ],
      "metadata": {
        "colab": {
          "base_uri": "https://localhost:8080/"
        },
        "id": "svLSKJ2R3_k_",
        "outputId": "6b5d7f46-c6f0-4c41-e31f-52ef6e160083"
      },
      "execution_count": 84,
      "outputs": [
        {
          "output_type": "execute_result",
          "data": {
            "text/plain": [
              "1"
            ]
          },
          "metadata": {},
          "execution_count": 84
        }
      ]
    },
    {
      "cell_type": "code",
      "source": [
        "Lista_Vazia[1:3]"
      ],
      "metadata": {
        "colab": {
          "base_uri": "https://localhost:8080/"
        },
        "id": "UO6_q0He4rQj",
        "outputId": "74cb4dce-76f0-4a97-b536-d087c85a2c75"
      },
      "execution_count": 85,
      "outputs": [
        {
          "output_type": "execute_result",
          "data": {
            "text/plain": [
              "[2, 3]"
            ]
          },
          "metadata": {},
          "execution_count": 85
        }
      ]
    },
    {
      "cell_type": "code",
      "source": [
        "print(Lista_Vazia)\n",
        "Lista_Vazia.clear()\n",
        "print(Lista_Vazia)"
      ],
      "metadata": {
        "colab": {
          "base_uri": "https://localhost:8080/"
        },
        "id": "Gnr5WyNj47VK",
        "outputId": "dfc2773c-f60d-4bf2-cdb3-f0e99c8f874d"
      },
      "execution_count": 86,
      "outputs": [
        {
          "output_type": "stream",
          "name": "stdout",
          "text": [
            "[1, 2, 3, 'Valor']\n",
            "[]\n"
          ]
        }
      ]
    },
    {
      "cell_type": "code",
      "source": [
        "Lista_Vazia.insert(0, 0) #1º - posição 2º valor"
      ],
      "metadata": {
        "id": "kdF1QmoA6R6l"
      },
      "execution_count": 87,
      "outputs": []
    },
    {
      "cell_type": "code",
      "source": [
        "print(Lista_Vazia)"
      ],
      "metadata": {
        "colab": {
          "base_uri": "https://localhost:8080/"
        },
        "id": "khqLtlch6yBm",
        "outputId": "25e47c16-bfbb-4af6-ce83-ed21c457d4cc"
      },
      "execution_count": 88,
      "outputs": [
        {
          "output_type": "stream",
          "name": "stdout",
          "text": [
            "[0]\n"
          ]
        }
      ]
    },
    {
      "cell_type": "code",
      "source": [
        "Lista_01 = [1,2,3]\n",
        "Lista_02 = [4,5,6]\n",
        "Lista_02.extend(Lista_01)"
      ],
      "metadata": {
        "id": "Ym2ac7Nl64A7"
      },
      "execution_count": 89,
      "outputs": []
    },
    {
      "cell_type": "code",
      "source": [
        "Lista_02"
      ],
      "metadata": {
        "colab": {
          "base_uri": "https://localhost:8080/"
        },
        "id": "9bTeATKb7xmH",
        "outputId": "9a2d5d2e-e969-4666-d8d9-83561efa5a5f"
      },
      "execution_count": 90,
      "outputs": [
        {
          "output_type": "execute_result",
          "data": {
            "text/plain": [
              "[4, 5, 6, 1, 2, 3]"
            ]
          },
          "metadata": {},
          "execution_count": 90
        }
      ]
    },
    {
      "cell_type": "code",
      "source": [
        "Lista_02.remove(6)"
      ],
      "metadata": {
        "id": "8UIBuzdV75Bn"
      },
      "execution_count": 91,
      "outputs": []
    },
    {
      "cell_type": "code",
      "source": [
        "Lista_02"
      ],
      "metadata": {
        "colab": {
          "base_uri": "https://localhost:8080/"
        },
        "id": "le5_It_k8JYW",
        "outputId": "86d36a35-413a-4e66-d6d1-741c0cb9fa4d"
      },
      "execution_count": 92,
      "outputs": [
        {
          "output_type": "execute_result",
          "data": {
            "text/plain": [
              "[4, 5, 1, 2, 3]"
            ]
          },
          "metadata": {},
          "execution_count": 92
        }
      ]
    },
    {
      "cell_type": "code",
      "source": [
        "Lista_02.pop(0)"
      ],
      "metadata": {
        "colab": {
          "base_uri": "https://localhost:8080/"
        },
        "id": "aes7ApfA8XGF",
        "outputId": "f7ec007b-90e0-42e0-ef84-bb4bc19ba984"
      },
      "execution_count": 93,
      "outputs": [
        {
          "output_type": "execute_result",
          "data": {
            "text/plain": [
              "4"
            ]
          },
          "metadata": {},
          "execution_count": 93
        }
      ]
    },
    {
      "cell_type": "code",
      "source": [
        "Lista_02"
      ],
      "metadata": {
        "colab": {
          "base_uri": "https://localhost:8080/"
        },
        "id": "UjkHoBjE8kG8",
        "outputId": "2ef18f95-3960-443c-fc36-37662e1eea21"
      },
      "execution_count": 94,
      "outputs": [
        {
          "output_type": "execute_result",
          "data": {
            "text/plain": [
              "[5, 1, 2, 3]"
            ]
          },
          "metadata": {},
          "execution_count": 94
        }
      ]
    },
    {
      "cell_type": "code",
      "source": [
        "Lista_abc = ['z','c','f','H','A']\n",
        "Lista_abc.sort()\n",
        "Lista_abc"
      ],
      "metadata": {
        "colab": {
          "base_uri": "https://localhost:8080/"
        },
        "id": "xUwnKUUv8ov0",
        "outputId": "4ac00af1-ac17-48af-aaa3-21857ba06f15"
      },
      "execution_count": 95,
      "outputs": [
        {
          "output_type": "execute_result",
          "data": {
            "text/plain": [
              "['A', 'H', 'c', 'f', 'z']"
            ]
          },
          "metadata": {},
          "execution_count": 95
        }
      ]
    },
    {
      "cell_type": "code",
      "source": [
        "Lista_abc.sort(reverse=True)\n",
        "Lista_abc"
      ],
      "metadata": {
        "colab": {
          "base_uri": "https://localhost:8080/"
        },
        "id": "OaKq_5wT9GfC",
        "outputId": "9f46cee5-b308-43aa-cad5-1575b227f064"
      },
      "execution_count": 96,
      "outputs": [
        {
          "output_type": "execute_result",
          "data": {
            "text/plain": [
              "['z', 'f', 'c', 'H', 'A']"
            ]
          },
          "metadata": {},
          "execution_count": 96
        }
      ]
    },
    {
      "cell_type": "code",
      "source": [
        "Lista_nova = Lista_abc.copy()\n",
        "Lista_nova"
      ],
      "metadata": {
        "colab": {
          "base_uri": "https://localhost:8080/"
        },
        "id": "LV-0Kzmu9Vp5",
        "outputId": "8d731c81-b74a-4b58-e47a-cadc7fec2188"
      },
      "execution_count": 97,
      "outputs": [
        {
          "output_type": "execute_result",
          "data": {
            "text/plain": [
              "['z', 'f', 'c', 'H', 'A']"
            ]
          },
          "metadata": {},
          "execution_count": 97
        }
      ]
    },
    {
      "cell_type": "code",
      "source": [
        "Lista_nova.index('H')"
      ],
      "metadata": {
        "colab": {
          "base_uri": "https://localhost:8080/"
        },
        "id": "r1Efey3o9mJY",
        "outputId": "2dbb6999-fb6c-41df-cb9f-90793b12066b"
      },
      "execution_count": 98,
      "outputs": [
        {
          "output_type": "execute_result",
          "data": {
            "text/plain": [
              "3"
            ]
          },
          "metadata": {},
          "execution_count": 98
        }
      ]
    },
    {
      "cell_type": "code",
      "source": [
        "#pacotes externos"
      ],
      "metadata": {
        "id": "idSfCi7l916Y"
      },
      "execution_count": 99,
      "outputs": []
    },
    {
      "cell_type": "code",
      "source": [
        "import datetime\n"
      ],
      "metadata": {
        "id": "QSK79v4B_94A"
      },
      "execution_count": 100,
      "outputs": []
    },
    {
      "cell_type": "code",
      "source": [
        "Dia_Hojje = datetime.datetime.today()\n",
        "print(Dia_Hojje)\n",
        "type(Dia_Hojje)"
      ],
      "metadata": {
        "colab": {
          "base_uri": "https://localhost:8080/"
        },
        "id": "IzImCe7zAQtO",
        "outputId": "647049f1-3174-4251-adb6-8fa4285298d0"
      },
      "execution_count": 101,
      "outputs": [
        {
          "output_type": "stream",
          "name": "stdout",
          "text": [
            "2022-06-26 22:52:06.060930\n"
          ]
        },
        {
          "output_type": "execute_result",
          "data": {
            "text/plain": [
              "datetime.datetime"
            ]
          },
          "metadata": {},
          "execution_count": 101
        }
      ]
    },
    {
      "cell_type": "code",
      "source": [
        "print(Dia_Hojje)\n",
        "print(Dia_Hojje.date())\n",
        "print(datetime.datetime.today().date())"
      ],
      "metadata": {
        "colab": {
          "base_uri": "https://localhost:8080/"
        },
        "id": "Rfns6Cq8Af1-",
        "outputId": "30330270-013d-402f-bf14-eb01cc48a238"
      },
      "execution_count": 102,
      "outputs": [
        {
          "output_type": "stream",
          "name": "stdout",
          "text": [
            "2022-06-26 22:52:06.060930\n",
            "2022-06-26\n",
            "2022-06-26\n"
          ]
        }
      ]
    },
    {
      "cell_type": "code",
      "source": [
        "Data = datetime.datetime.today().date()"
      ],
      "metadata": {
        "id": "2I0Ici85CLOh"
      },
      "execution_count": 103,
      "outputs": []
    },
    {
      "cell_type": "code",
      "source": [
        "Ano = Data.year\n",
        "Mes = Data.month\n",
        "Dia = Data.day\n",
        "\n",
        "print(Dia, Mes, Ano)"
      ],
      "metadata": {
        "colab": {
          "base_uri": "https://localhost:8080/"
        },
        "id": "RAp0r2JiDByP",
        "outputId": "95ec7ac6-8829-4251-e6f9-52659dcef918"
      },
      "execution_count": 104,
      "outputs": [
        {
          "output_type": "stream",
          "name": "stdout",
          "text": [
            "26 6 2022\n"
          ]
        }
      ]
    },
    {
      "cell_type": "code",
      "source": [
        "Data_criada = datetime.date(2022, 1, 1)\n",
        "Data_criada"
      ],
      "metadata": {
        "colab": {
          "base_uri": "https://localhost:8080/"
        },
        "id": "Kz4pOoCLDkKF",
        "outputId": "e1fbc6f2-ec8a-469c-88e8-ff10e3869435"
      },
      "execution_count": 105,
      "outputs": [
        {
          "output_type": "execute_result",
          "data": {
            "text/plain": [
              "datetime.date(2022, 1, 1)"
            ]
          },
          "metadata": {},
          "execution_count": 105
        }
      ]
    },
    {
      "cell_type": "code",
      "source": [
        "Data - Data_criada"
      ],
      "metadata": {
        "colab": {
          "base_uri": "https://localhost:8080/"
        },
        "id": "gbvsGyVPEi9Z",
        "outputId": "7468835c-a9a7-493b-cd53-4f25958cf9f5"
      },
      "execution_count": 106,
      "outputs": [
        {
          "output_type": "execute_result",
          "data": {
            "text/plain": [
              "datetime.timedelta(days=176)"
            ]
          },
          "metadata": {},
          "execution_count": 106
        }
      ]
    },
    {
      "cell_type": "code",
      "source": [
        "Data.strftime('%d/%m/%y')  #configuração da data .strftime"
      ],
      "metadata": {
        "colab": {
          "base_uri": "https://localhost:8080/",
          "height": 35
        },
        "id": "4IKYZVlyFVgu",
        "outputId": "7e97d331-e6f0-4555-a3ec-47c8d253a6ef"
      },
      "execution_count": 107,
      "outputs": [
        {
          "output_type": "execute_result",
          "data": {
            "text/plain": [
              "'26/06/22'"
            ],
            "application/vnd.google.colaboratory.intrinsic+json": {
              "type": "string"
            }
          },
          "metadata": {},
          "execution_count": 107
        }
      ]
    },
    {
      "cell_type": "code",
      "source": [
        "#somando na data\n",
        "Data + datetime.timedelta(days=30)"
      ],
      "metadata": {
        "colab": {
          "base_uri": "https://localhost:8080/"
        },
        "id": "3ESjC8XPFn2W",
        "outputId": "5a3df0a1-5ccd-4a8c-e26e-35693291bc73"
      },
      "execution_count": 108,
      "outputs": [
        {
          "output_type": "execute_result",
          "data": {
            "text/plain": [
              "datetime.date(2022, 7, 26)"
            ]
          },
          "metadata": {},
          "execution_count": 108
        }
      ]
    },
    {
      "cell_type": "code",
      "source": [
        "import time"
      ],
      "metadata": {
        "id": "GmeKMCC9G_Zp"
      },
      "execution_count": 109,
      "outputs": []
    },
    {
      "cell_type": "code",
      "source": [
        "print('Comecei agora ...')\n",
        "time.sleep(5)\n",
        "print('Terminei')"
      ],
      "metadata": {
        "colab": {
          "base_uri": "https://localhost:8080/"
        },
        "id": "R1DkPRoLrezB",
        "outputId": "bf324681-f266-4b66-f070-c27e458b734f"
      },
      "execution_count": 110,
      "outputs": [
        {
          "output_type": "stream",
          "name": "stdout",
          "text": [
            "Comecei agora ...\n",
            "Terminei\n"
          ]
        }
      ]
    },
    {
      "cell_type": "code",
      "source": [
        "Agora = time.localtime()\n",
        "print( Agora )\n",
        "print (type (Agora))"
      ],
      "metadata": {
        "colab": {
          "base_uri": "https://localhost:8080/"
        },
        "id": "3O0mu4uUsrao",
        "outputId": "780d05cf-c03b-4163-964b-e4a80cbae38c"
      },
      "execution_count": 111,
      "outputs": [
        {
          "output_type": "stream",
          "name": "stdout",
          "text": [
            "time.struct_time(tm_year=2022, tm_mon=6, tm_mday=26, tm_hour=22, tm_min=52, tm_sec=51, tm_wday=6, tm_yday=177, tm_isdst=0)\n",
            "<class 'time.struct_time'>\n"
          ]
        }
      ]
    },
    {
      "cell_type": "code",
      "source": [
        "time.strftime('%m/%d/%y, %H:%M:%S', Agora)"
      ],
      "metadata": {
        "colab": {
          "base_uri": "https://localhost:8080/",
          "height": 35
        },
        "id": "ggzvq2Y0tOf7",
        "outputId": "41c15715-8646-4a51-c5de-9f232fd903a7"
      },
      "execution_count": 112,
      "outputs": [
        {
          "output_type": "execute_result",
          "data": {
            "text/plain": [
              "'06/26/22, 22:52:51'"
            ],
            "application/vnd.google.colaboratory.intrinsic+json": {
              "type": "string"
            }
          },
          "metadata": {},
          "execution_count": 112
        }
      ]
    },
    {
      "cell_type": "code",
      "source": [
        "Time_Texto = '21 June, 2021'\n",
        "time.strptime( Time_Texto, '%d %B, %Y' )"
      ],
      "metadata": {
        "colab": {
          "base_uri": "https://localhost:8080/"
        },
        "id": "2B07_uakuMcv",
        "outputId": "c8302087-9161-4e5f-ef7c-45ee4e08cfbc"
      },
      "execution_count": 113,
      "outputs": [
        {
          "output_type": "execute_result",
          "data": {
            "text/plain": [
              "time.struct_time(tm_year=2021, tm_mon=6, tm_mday=21, tm_hour=0, tm_min=0, tm_sec=0, tm_wday=0, tm_yday=172, tm_isdst=-1)"
            ]
          },
          "metadata": {},
          "execution_count": 113
        }
      ]
    },
    {
      "cell_type": "code",
      "source": [
        "import math"
      ],
      "metadata": {
        "id": "NcRl7dvTvKFB"
      },
      "execution_count": 114,
      "outputs": []
    },
    {
      "cell_type": "code",
      "source": [
        "Tupla = (10, 5, -20, 30, 40)"
      ],
      "metadata": {
        "id": "NXucY3JQvlbk"
      },
      "execution_count": 115,
      "outputs": []
    },
    {
      "cell_type": "code",
      "source": [
        "min(Tupla)"
      ],
      "metadata": {
        "colab": {
          "base_uri": "https://localhost:8080/"
        },
        "id": "Yrgz0YvovsrE",
        "outputId": "f82c7680-bf7b-4669-f290-ce918d030d86"
      },
      "execution_count": 116,
      "outputs": [
        {
          "output_type": "execute_result",
          "data": {
            "text/plain": [
              "-20"
            ]
          },
          "metadata": {},
          "execution_count": 116
        }
      ]
    },
    {
      "cell_type": "code",
      "source": [
        "max(Tupla)"
      ],
      "metadata": {
        "colab": {
          "base_uri": "https://localhost:8080/"
        },
        "id": "-9ELzNL4vvBU",
        "outputId": "ef831f01-281c-464b-f87d-6e9d863c4369"
      },
      "execution_count": 117,
      "outputs": [
        {
          "output_type": "execute_result",
          "data": {
            "text/plain": [
              "40"
            ]
          },
          "metadata": {},
          "execution_count": 117
        }
      ]
    },
    {
      "cell_type": "code",
      "source": [
        "abs(-25)"
      ],
      "metadata": {
        "colab": {
          "base_uri": "https://localhost:8080/"
        },
        "id": "CcrrjXa1vzqU",
        "outputId": "030222a2-b86d-422c-c92a-b6bb43b767c2"
      },
      "execution_count": 118,
      "outputs": [
        {
          "output_type": "execute_result",
          "data": {
            "text/plain": [
              "25"
            ]
          },
          "metadata": {},
          "execution_count": 118
        }
      ]
    },
    {
      "cell_type": "code",
      "source": [
        "pow(3,5)   # 3*3*3*3*3"
      ],
      "metadata": {
        "colab": {
          "base_uri": "https://localhost:8080/"
        },
        "id": "virE7UtpwK41",
        "outputId": "9d38240d-70a6-45c0-9210-810c77b321b0"
      },
      "execution_count": 119,
      "outputs": [
        {
          "output_type": "execute_result",
          "data": {
            "text/plain": [
              "243"
            ]
          },
          "metadata": {},
          "execution_count": 119
        }
      ]
    },
    {
      "cell_type": "code",
      "source": [
        "math.sqrt(81) #math - biblioteca para cálculos"
      ],
      "metadata": {
        "colab": {
          "base_uri": "https://localhost:8080/"
        },
        "id": "uoR9Xbx5wN_C",
        "outputId": "3b9e1c09-77e4-4c01-e77f-7361f508a17c"
      },
      "execution_count": 120,
      "outputs": [
        {
          "output_type": "execute_result",
          "data": {
            "text/plain": [
              "9.0"
            ]
          },
          "metadata": {},
          "execution_count": 120
        }
      ]
    },
    {
      "cell_type": "code",
      "source": [
        "math.ceil(1.4) #arredonda para cima"
      ],
      "metadata": {
        "colab": {
          "base_uri": "https://localhost:8080/"
        },
        "id": "nvSs_kAlulIe",
        "outputId": "d202285a-3a0e-44b3-e15e-5194ce197613"
      },
      "execution_count": 121,
      "outputs": [
        {
          "output_type": "execute_result",
          "data": {
            "text/plain": [
              "2"
            ]
          },
          "metadata": {},
          "execution_count": 121
        }
      ]
    },
    {
      "cell_type": "code",
      "source": [
        "math.floor(1.4) #arredonda para baixo"
      ],
      "metadata": {
        "colab": {
          "base_uri": "https://localhost:8080/"
        },
        "id": "5w5qZgIawp5R",
        "outputId": "8400a391-c758-4c03-fcf8-3bcba64a1692"
      },
      "execution_count": 122,
      "outputs": [
        {
          "output_type": "execute_result",
          "data": {
            "text/plain": [
              "1"
            ]
          },
          "metadata": {},
          "execution_count": 122
        }
      ]
    },
    {
      "cell_type": "code",
      "source": [
        "import random"
      ],
      "metadata": {
        "id": "c1lhxEbvwz3Y"
      },
      "execution_count": 123,
      "outputs": []
    },
    {
      "cell_type": "code",
      "source": [
        "Lista = [1, 2, 3, 4, 5, 6, 7, 8]"
      ],
      "metadata": {
        "id": "2RPuy34IuG-g"
      },
      "execution_count": 124,
      "outputs": []
    },
    {
      "cell_type": "code",
      "source": [
        "random.choice(Lista)"
      ],
      "metadata": {
        "colab": {
          "base_uri": "https://localhost:8080/"
        },
        "id": "UxxBZ9MexXQW",
        "outputId": "e94f055b-7be2-4e2c-c7ac-7a51e62c4937"
      },
      "execution_count": 125,
      "outputs": [
        {
          "output_type": "execute_result",
          "data": {
            "text/plain": [
              "6"
            ]
          },
          "metadata": {},
          "execution_count": 125
        }
      ]
    },
    {
      "cell_type": "code",
      "source": [
        "Palavra ='Arthur'\n",
        "random.choice(Palavra)"
      ],
      "metadata": {
        "colab": {
          "base_uri": "https://localhost:8080/",
          "height": 35
        },
        "id": "QMzrn8f-xm37",
        "outputId": "9ee74452-dc1f-46dd-9ac5-903225a90800"
      },
      "execution_count": 126,
      "outputs": [
        {
          "output_type": "execute_result",
          "data": {
            "text/plain": [
              "'r'"
            ],
            "application/vnd.google.colaboratory.intrinsic+json": {
              "type": "string"
            }
          },
          "metadata": {},
          "execution_count": 126
        }
      ]
    },
    {
      "cell_type": "code",
      "source": [
        "random.random()"
      ],
      "metadata": {
        "colab": {
          "base_uri": "https://localhost:8080/"
        },
        "id": "T_cxYdXryP5g",
        "outputId": "8d930015-5549-4a7b-e175-2ff792fdab49"
      },
      "execution_count": 127,
      "outputs": [
        {
          "output_type": "execute_result",
          "data": {
            "text/plain": [
              "0.12189125735359929"
            ]
          },
          "metadata": {},
          "execution_count": 127
        }
      ]
    },
    {
      "cell_type": "code",
      "source": [
        "random.randint(-80, 15)"
      ],
      "metadata": {
        "colab": {
          "base_uri": "https://localhost:8080/"
        },
        "id": "aN9NgOQYybzP",
        "outputId": "14ab7155-b42f-4fbd-9853-0f0bc790d9ae"
      },
      "execution_count": 128,
      "outputs": [
        {
          "output_type": "execute_result",
          "data": {
            "text/plain": [
              "-11"
            ]
          },
          "metadata": {},
          "execution_count": 128
        }
      ]
    },
    {
      "cell_type": "code",
      "source": [
        "import statistics"
      ],
      "metadata": {
        "id": "Z2Jbt4ggxdAM"
      },
      "execution_count": 129,
      "outputs": []
    },
    {
      "cell_type": "code",
      "source": [
        "Lista = [12, 15, 28, 28, 31 , 56,  78, 80]"
      ],
      "metadata": {
        "id": "ThpSUACXxbxU"
      },
      "execution_count": 130,
      "outputs": []
    },
    {
      "cell_type": "code",
      "source": [
        "sum(Lista) / len(Lista)"
      ],
      "metadata": {
        "colab": {
          "base_uri": "https://localhost:8080/"
        },
        "id": "8hBOic6d0Srh",
        "outputId": "fe3d746c-a9d7-4ff8-fd51-4a7ebc4e0fb6"
      },
      "execution_count": 131,
      "outputs": [
        {
          "output_type": "execute_result",
          "data": {
            "text/plain": [
              "41.0"
            ]
          },
          "metadata": {},
          "execution_count": 131
        }
      ]
    },
    {
      "cell_type": "code",
      "source": [
        "statistics.mean(Lista)"
      ],
      "metadata": {
        "colab": {
          "base_uri": "https://localhost:8080/"
        },
        "id": "0ynUqE6i0ZDv",
        "outputId": "3d933c02-6153-4629-fe32-4104c32b6c8a"
      },
      "execution_count": 132,
      "outputs": [
        {
          "output_type": "execute_result",
          "data": {
            "text/plain": [
              "41"
            ]
          },
          "metadata": {},
          "execution_count": 132
        }
      ]
    },
    {
      "cell_type": "code",
      "source": [
        "statistics.median(Lista)"
      ],
      "metadata": {
        "colab": {
          "base_uri": "https://localhost:8080/"
        },
        "id": "qk_p8tWJ0qGJ",
        "outputId": "04b2c30a-c5c6-4cff-d583-9cb2b7954b77"
      },
      "execution_count": 133,
      "outputs": [
        {
          "output_type": "execute_result",
          "data": {
            "text/plain": [
              "29.5"
            ]
          },
          "metadata": {},
          "execution_count": 133
        }
      ]
    },
    {
      "cell_type": "code",
      "source": [
        "statistics.mode(Lista)"
      ],
      "metadata": {
        "colab": {
          "base_uri": "https://localhost:8080/"
        },
        "id": "0OaPXl4J0vYu",
        "outputId": "e1523ef4-4c7d-4a43-940d-96458d68f2f0"
      },
      "execution_count": 134,
      "outputs": [
        {
          "output_type": "execute_result",
          "data": {
            "text/plain": [
              "28"
            ]
          },
          "metadata": {},
          "execution_count": 134
        }
      ]
    },
    {
      "cell_type": "code",
      "source": [
        "#Condeição se a pessoa tiver menor de 18 anos, ela não no sistema.\n",
        "Idade = 35\n",
        "\n",
        "if Idade >= 18: \n",
        "  print('você é maior de idade')\n",
        " \n",
        "else:\n",
        "  print('não é')"
      ],
      "metadata": {
        "colab": {
          "base_uri": "https://localhost:8080/"
        },
        "id": "XyWD7yfr1VT9",
        "outputId": "f801ffcc-cf6e-4952-d841-055bf6664fe8"
      },
      "execution_count": 135,
      "outputs": [
        {
          "output_type": "stream",
          "name": "stdout",
          "text": [
            "você é maior de idade\n"
          ]
        }
      ]
    },
    {
      "cell_type": "code",
      "source": [
        "#Condição se a pessoa tiver menor de 18 anos, ela não no sistema.\n",
        "Idade = 50\n",
        "\n",
        "if Idade >= 18: \n",
        "  print('você é maior de idade')\n",
        "\n",
        "elif Idade >= 15 and Idade <=17:\n",
        "  print ('Seu pai ou mãe pode autorizar')\n",
        " \n",
        "else:\n",
        "  print('muito criança')"
      ],
      "metadata": {
        "colab": {
          "base_uri": "https://localhost:8080/"
        },
        "id": "705ZcTG03fNX",
        "outputId": "2089703a-fb6e-4025-8572-6f21625327b8"
      },
      "execution_count": 137,
      "outputs": [
        {
          "output_type": "stream",
          "name": "stdout",
          "text": [
            "você é maior de idade\n"
          ]
        }
      ]
    },
    {
      "cell_type": "code",
      "source": [
        "for QualquerCoisaQueQuiser in range(10):   #loop\n",
        "  print( QualquerCoisaQueQuiser * 2)"
      ],
      "metadata": {
        "id": "DbI6ozK03YHP",
        "colab": {
          "base_uri": "https://localhost:8080/"
        },
        "outputId": "2550eab8-f097-4d3b-da84-ff28c62027fe"
      },
      "execution_count": 141,
      "outputs": [
        {
          "output_type": "stream",
          "name": "stdout",
          "text": [
            "0\n",
            "2\n",
            "4\n",
            "6\n",
            "8\n",
            "10\n",
            "12\n",
            "14\n",
            "16\n",
            "18\n"
          ]
        }
      ]
    },
    {
      "cell_type": "code",
      "source": [
        "for QualquerCoisaQueQuiser in range(6,10):   #loop\n",
        "  print( QualquerCoisaQueQuiser * 2)"
      ],
      "metadata": {
        "id": "nFTb3oYV3T95",
        "colab": {
          "base_uri": "https://localhost:8080/"
        },
        "outputId": "bebce63b-f5cc-4cba-e0f4-8dfa8a03c22c"
      },
      "execution_count": 142,
      "outputs": [
        {
          "output_type": "stream",
          "name": "stdout",
          "text": [
            "12\n",
            "14\n",
            "16\n",
            "18\n"
          ]
        }
      ]
    },
    {
      "cell_type": "code",
      "source": [
        "for QualquerCoisaQueQuiser in range(1, 100, 5):   #loop\n",
        "  print( QualquerCoisaQueQuiser)"
      ],
      "metadata": {
        "id": "rnkyYxWQ2wPh",
        "colab": {
          "base_uri": "https://localhost:8080/"
        },
        "outputId": "63bce088-160b-450d-a481-19fa71d69ca3"
      },
      "execution_count": 143,
      "outputs": [
        {
          "output_type": "stream",
          "name": "stdout",
          "text": [
            "1\n",
            "6\n",
            "11\n",
            "16\n",
            "21\n",
            "26\n",
            "31\n",
            "36\n",
            "41\n",
            "46\n",
            "51\n",
            "56\n",
            "61\n",
            "66\n",
            "71\n",
            "76\n",
            "81\n",
            "86\n",
            "91\n",
            "96\n"
          ]
        }
      ]
    },
    {
      "cell_type": "code",
      "source": [
        "Listao = ['Brasil','Argentina','Uruguai','Paraguai','Bolivia','Colombia','Equador']\n",
        "\n",
        "for QualquerCoisaQueQuiser in Listao:\n",
        "  print( QualquerCoisaQueQuiser.upper() [0:5])"
      ],
      "metadata": {
        "id": "BjOvGr7b2stp",
        "colab": {
          "base_uri": "https://localhost:8080/"
        },
        "outputId": "5362e477-b796-427f-be5b-349b5e444980"
      },
      "execution_count": 158,
      "outputs": [
        {
          "output_type": "stream",
          "name": "stdout",
          "text": [
            "BRASI\n",
            "ARGEN\n",
            "URUGU\n",
            "PARAG\n",
            "BOLIV\n",
            "COLOM\n",
            "EQUAD\n"
          ]
        }
      ]
    },
    {
      "cell_type": "code",
      "source": [
        ""
      ],
      "metadata": {
        "id": "buYPBn_M2i5p"
      },
      "execution_count": null,
      "outputs": []
    },
    {
      "cell_type": "code",
      "source": [
        ""
      ],
      "metadata": {
        "id": "L38FHyPd2YPG"
      },
      "execution_count": null,
      "outputs": []
    },
    {
      "cell_type": "code",
      "source": [
        ""
      ],
      "metadata": {
        "id": "5cJDWyG21MLd"
      },
      "execution_count": null,
      "outputs": []
    },
    {
      "cell_type": "code",
      "source": [
        ""
      ],
      "metadata": {
        "id": "fkogTaCC1Gsu"
      },
      "execution_count": null,
      "outputs": []
    },
    {
      "cell_type": "code",
      "source": [
        ""
      ],
      "metadata": {
        "id": "J2m784XR0kKH"
      },
      "execution_count": null,
      "outputs": []
    },
    {
      "cell_type": "code",
      "source": [
        ""
      ],
      "metadata": {
        "id": "UGF3_lZD0VTA"
      },
      "execution_count": null,
      "outputs": []
    }
  ]
}
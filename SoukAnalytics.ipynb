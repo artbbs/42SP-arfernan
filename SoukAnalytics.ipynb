{
  "nbformat": 4,
  "nbformat_minor": 0,
  "metadata": {
    "colab": {
      "name": "SoukAnalytics.ipynb",
      "provenance": [],
      "collapsed_sections": [],
      "authorship_tag": "ABX9TyPCkyKatjDOTnowv/FenBKz",
      "include_colab_link": true
    },
    "kernelspec": {
      "name": "python3",
      "display_name": "Python 3"
    },
    "language_info": {
      "name": "python"
    }
  },
  "cells": [
    {
      "cell_type": "markdown",
      "metadata": {
        "id": "view-in-github",
        "colab_type": "text"
      },
      "source": [
        "<a href=\"https://colab.research.google.com/github/artbbs/42SP-arfernan/blob/main/SoukAnalytics.ipynb\" target=\"_parent\"><img src=\"https://colab.research.google.com/assets/colab-badge.svg\" alt=\"Open In Colab\"/></a>"
      ]
    },
    {
      "cell_type": "code",
      "execution_count": 11,
      "metadata": {
        "colab": {
          "base_uri": "https://localhost:8080/"
        },
        "id": "QAtnXXwV2NN_",
        "outputId": "250f74a6-04cf-48e5-87dd-6dd0272501aa"
      },
      "outputs": [
        {
          "output_type": "stream",
          "name": "stdout",
          "text": [
            "bem vindo ao curso  de Python\n"
          ]
        }
      ],
      "source": [
        "print(\"bem vindo ao curso  de Python\")"
      ]
    },
    {
      "cell_type": "code",
      "source": [
        "print ('Bem vindo\\n devolta')"
      ],
      "metadata": {
        "colab": {
          "base_uri": "https://localhost:8080/"
        },
        "id": "0xoksPij85QO",
        "outputId": "cb62f31a-5f71-4001-fa27-dc865b4f1da0"
      },
      "execution_count": 12,
      "outputs": [
        {
          "output_type": "stream",
          "name": "stdout",
          "text": [
            "Bem vindo\n",
            " devolta\n"
          ]
        }
      ]
    },
    {
      "cell_type": "code",
      "source": [
        "(2 + 2) * 5"
      ],
      "metadata": {
        "colab": {
          "base_uri": "https://localhost:8080/"
        },
        "id": "m9DC2Ia5_O36",
        "outputId": "c6d344e2-37b9-42be-ea01-e96f5bccbcec"
      },
      "execution_count": 13,
      "outputs": [
        {
          "output_type": "execute_result",
          "data": {
            "text/plain": [
              "20"
            ]
          },
          "metadata": {},
          "execution_count": 13
        }
      ]
    },
    {
      "cell_type": "code",
      "source": [
        "nome = 'Um nome'"
      ],
      "metadata": {
        "id": "BCuzuluZBXdn"
      },
      "execution_count": 14,
      "outputs": []
    },
    {
      "cell_type": "code",
      "source": [
        "nome "
      ],
      "metadata": {
        "colab": {
          "base_uri": "https://localhost:8080/",
          "height": 35
        },
        "id": "Cbt3mYRiBd8i",
        "outputId": "97b29f13-a96c-478a-ea7a-1f1b4b2eb9dc"
      },
      "execution_count": 15,
      "outputs": [
        {
          "output_type": "execute_result",
          "data": {
            "text/plain": [
              "'Um nome'"
            ],
            "application/vnd.google.colaboratory.intrinsic+json": {
              "type": "string"
            }
          },
          "metadata": {},
          "execution_count": 15
        }
      ]
    },
    {
      "cell_type": "code",
      "source": [
        "estudo = str ('avaliação 99')"
      ],
      "metadata": {
        "id": "pZslPCNiBr7h"
      },
      "execution_count": 16,
      "outputs": []
    },
    {
      "cell_type": "code",
      "source": [
        "estudo"
      ],
      "metadata": {
        "colab": {
          "base_uri": "https://localhost:8080/",
          "height": 35
        },
        "id": "jT5oINRMBtyH",
        "outputId": "ed83b6e6-4f52-4243-8a97-48bc3c8e3811"
      },
      "execution_count": 17,
      "outputs": [
        {
          "output_type": "execute_result",
          "data": {
            "text/plain": [
              "'avaliação 99'"
            ],
            "application/vnd.google.colaboratory.intrinsic+json": {
              "type": "string"
            }
          },
          "metadata": {},
          "execution_count": 17
        }
      ]
    },
    {
      "cell_type": "code",
      "source": [
        "numeros = 111\n",
        "numero = int (100)\n",
        "print (numeros, numero, numero, numeros)"
      ],
      "metadata": {
        "colab": {
          "base_uri": "https://localhost:8080/"
        },
        "id": "xZMKnrygB6Dn",
        "outputId": "ec895863-0c12-4cc5-e28b-8a8b6da353c7"
      },
      "execution_count": 18,
      "outputs": [
        {
          "output_type": "stream",
          "name": "stdout",
          "text": [
            "111 100 100 111\n"
          ]
        }
      ]
    },
    {
      "cell_type": "code",
      "source": [
        "numeros"
      ],
      "metadata": {
        "colab": {
          "base_uri": "https://localhost:8080/"
        },
        "id": "h-wGy-DvEgW7",
        "outputId": "355ec228-e356-4ffa-c6b6-f983c9920f84"
      },
      "execution_count": 19,
      "outputs": [
        {
          "output_type": "execute_result",
          "data": {
            "text/plain": [
              "111"
            ]
          },
          "metadata": {},
          "execution_count": 19
        }
      ]
    },
    {
      "cell_type": "code",
      "source": [
        "flutuant = 11.20\n",
        "flutuante = float (12.20)\n",
        "print(flutuant, flutuante)"
      ],
      "metadata": {
        "colab": {
          "base_uri": "https://localhost:8080/"
        },
        "id": "eZC0nLNPFBRd",
        "outputId": "6be00b81-db9a-4a42-b6f5-dc7900ff1367"
      },
      "execution_count": 20,
      "outputs": [
        {
          "output_type": "stream",
          "name": "stdout",
          "text": [
            "11.2 12.2\n"
          ]
        }
      ]
    },
    {
      "cell_type": "code",
      "source": [
        "boole = True\n",
        "boolean = False\n",
        "print(boole, boolean)"
      ],
      "metadata": {
        "colab": {
          "base_uri": "https://localhost:8080/"
        },
        "id": "n8GEKQIZFrTE",
        "outputId": "5abd4aeb-5a83-471d-9bac-35ccafa12feb"
      },
      "execution_count": 21,
      "outputs": [
        {
          "output_type": "stream",
          "name": "stdout",
          "text": [
            "True False\n"
          ]
        }
      ]
    },
    {
      "cell_type": "code",
      "source": [
        "'''\n",
        "Tipos de dados\n",
        "Listas Colchetes []\n",
        "Tuplas Parênteses ()\n",
        "Dicionários Chaves {}\n",
        "'''"
      ],
      "metadata": {
        "colab": {
          "base_uri": "https://localhost:8080/",
          "height": 35
        },
        "id": "yepQAgSFGdPH",
        "outputId": "b3f8916b-7554-4eee-9eb2-0ef133caec8b"
      },
      "execution_count": 22,
      "outputs": [
        {
          "output_type": "execute_result",
          "data": {
            "text/plain": [
              "'\\nTipos de dados\\nListas Colchetes []\\nTuplas Parênteses ()\\nDicionários Chaves {}\\n'"
            ],
            "application/vnd.google.colaboratory.intrinsic+json": {
              "type": "string"
            }
          },
          "metadata": {},
          "execution_count": 22
        }
      ]
    },
    {
      "cell_type": "code",
      "source": [
        "numero, nome, outro = '1', 'oleo', '4'\n",
        "print (numero, outro)"
      ],
      "metadata": {
        "colab": {
          "base_uri": "https://localhost:8080/"
        },
        "id": "nxNidCwUGyxw",
        "outputId": "2c09dd96-0d36-4a64-8841-212d8833efa0"
      },
      "execution_count": 23,
      "outputs": [
        {
          "output_type": "stream",
          "name": "stdout",
          "text": [
            "1 4\n"
          ]
        }
      ]
    },
    {
      "cell_type": "code",
      "source": [
        "numer = nom = oth = 100\n",
        "print (nom, oth)"
      ],
      "metadata": {
        "colab": {
          "base_uri": "https://localhost:8080/"
        },
        "id": "YS5fhTusKvJB",
        "outputId": "793952da-da64-4af5-f310-5cafe5d9b7c7"
      },
      "execution_count": 24,
      "outputs": [
        {
          "output_type": "stream",
          "name": "stdout",
          "text": [
            "100 100\n"
          ]
        }
      ]
    },
    {
      "cell_type": "code",
      "source": [
        "lista_carros = ('vw', 'audi', 'tesla')\n",
        "marca01, marca02, marca03 = lista_carros\n",
        "print (marca01, marca02, marca03)"
      ],
      "metadata": {
        "colab": {
          "base_uri": "https://localhost:8080/"
        },
        "id": "mJURgQ6sLXcn",
        "outputId": "980244f4-a3d5-40d9-b3d9-380a3c171ca1"
      },
      "execution_count": 25,
      "outputs": [
        {
          "output_type": "stream",
          "name": "stdout",
          "text": [
            "vw audi tesla\n"
          ]
        }
      ]
    },
    {
      "cell_type": "code",
      "source": [
        "print (marca01)"
      ],
      "metadata": {
        "colab": {
          "base_uri": "https://localhost:8080/"
        },
        "id": "OjMgMCwQL1Z1",
        "outputId": "872f0477-3d22-48f2-ebb0-86840c052b2b"
      },
      "execution_count": 26,
      "outputs": [
        {
          "output_type": "stream",
          "name": "stdout",
          "text": [
            "vw\n"
          ]
        }
      ]
    },
    {
      "cell_type": "code",
      "source": [
        "nome = 'art'\n",
        "sobrenome = 'barb'\n",
        "nome_completo = nome +' ' + outro + '_ ' + sobrenome + nome\n",
        "print (nome_completo)"
      ],
      "metadata": {
        "colab": {
          "base_uri": "https://localhost:8080/"
        },
        "id": "1RgagbGfL42u",
        "outputId": "069d6426-dde0-4f39-ae9a-bdf2d490af3a"
      },
      "execution_count": 27,
      "outputs": [
        {
          "output_type": "stream",
          "name": "stdout",
          "text": [
            "art 4_ barbart\n"
          ]
        }
      ]
    },
    {
      "cell_type": "code",
      "source": [
        "nome = 'art'\n",
        "idade = str (50)\n",
        "nome + idade"
      ],
      "metadata": {
        "colab": {
          "base_uri": "https://localhost:8080/",
          "height": 35
        },
        "id": "_6Ocw6iRNJKj",
        "outputId": "6500f592-41e6-47a5-df64-24460a187c57"
      },
      "execution_count": 28,
      "outputs": [
        {
          "output_type": "execute_result",
          "data": {
            "text/plain": [
              "'art50'"
            ],
            "application/vnd.google.colaboratory.intrinsic+json": {
              "type": "string"
            }
          },
          "metadata": {},
          "execution_count": 28
        }
      ]
    },
    {
      "cell_type": "code",
      "source": [
        "invest = 1000\n",
        "txJur = float('0.2')\n",
        "\n",
        "\n",
        "print (invest * txJur)\n",
        "\n",
        "ganho = invest * txJur - invest\n",
        "\n",
        "print (ganho)"
      ],
      "metadata": {
        "colab": {
          "base_uri": "https://localhost:8080/"
        },
        "id": "FdcU_whRNjy8",
        "outputId": "830ecb56-3d04-4887-c4c2-74b6d1f29cf3"
      },
      "execution_count": 29,
      "outputs": [
        {
          "output_type": "stream",
          "name": "stdout",
          "text": [
            "200.0\n",
            "-800.0\n"
          ]
        }
      ]
    },
    {
      "cell_type": "code",
      "source": [
        "String = str ('Olá Mundo')\n",
        "inteiro= int(10)\n",
        "Flutuante=float(100.5)\n",
        "Complex = complex(1j)\n",
        "Lista =list(('Maça','Morango'))\n",
        "Tupla = tuple(('A', 'B'))\n",
        "Range =range (6)\n",
        "Dicionario = dict(nome= 'Art', age=50)\n",
        "Set = set(('A', 'B','C'))\n",
        "Booleano = bool(5)\n",
        "Bytes = bytes(5)\n",
        "ByteArray = bytearray(5)\n",
        "Memoryview= memoryview( bytes(5))\n",
        "\n",
        "from datetime import datetime\n",
        "Data = datetime.today().date()\n",
        "        #exemplos de tipo de dados\n",
        "valor_exemplo = 12.123456789123\n",
        "print(valor_exemplo)\n",
        "round (valor_exemplo, 5)"
      ],
      "metadata": {
        "colab": {
          "base_uri": "https://localhost:8080/"
        },
        "id": "RtNzwUWsSnJL",
        "outputId": "5dc06370-dcb4-414f-9543-d27fdbcb6e7a"
      },
      "execution_count": 30,
      "outputs": [
        {
          "output_type": "stream",
          "name": "stdout",
          "text": [
            "12.123456789123\n"
          ]
        },
        {
          "output_type": "execute_result",
          "data": {
            "text/plain": [
              "12.12346"
            ]
          },
          "metadata": {},
          "execution_count": 30
        }
      ]
    },
    {
      "cell_type": "code",
      "source": [
        "Lista = [1, 2, 3, 4, 5, 6, 7, 8, 9, 10]\n",
        "Dicionario = {'Nome':'Art','Idade':50}\n",
        "Tupla = (1, 2, 3)\n",
        "String = 'olá mundo'"
      ],
      "metadata": {
        "id": "kdv-TqtZbwtz"
      },
      "execution_count": 31,
      "outputs": []
    },
    {
      "cell_type": "code",
      "source": [
        "len (Dicionario)"
      ],
      "metadata": {
        "colab": {
          "base_uri": "https://localhost:8080/"
        },
        "id": "hPegLJD8cwH6",
        "outputId": "f742d16b-c5e2-4cf1-df4d-2a2e18035701"
      },
      "execution_count": 32,
      "outputs": [
        {
          "output_type": "execute_result",
          "data": {
            "text/plain": [
              "2"
            ]
          },
          "metadata": {},
          "execution_count": 32
        }
      ]
    },
    {
      "cell_type": "code",
      "source": [
        "len(String)"
      ],
      "metadata": {
        "colab": {
          "base_uri": "https://localhost:8080/"
        },
        "id": "GdqBIzv-dEOK",
        "outputId": "6f5138e4-c4d1-4286-eed8-d6e582498b87"
      },
      "execution_count": 33,
      "outputs": [
        {
          "output_type": "execute_result",
          "data": {
            "text/plain": [
              "9"
            ]
          },
          "metadata": {},
          "execution_count": 33
        }
      ]
    },
    {
      "cell_type": "code",
      "source": [
        "Minha_String = 'Aprender Python é Top!'\n",
        "print(type(Minha_String))\n",
        "print(len(Minha_String))"
      ],
      "metadata": {
        "colab": {
          "base_uri": "https://localhost:8080/"
        },
        "id": "KBFffVZodKEo",
        "outputId": "1fb3de1e-2d94-412e-deac-2c0fb94d34c8"
      },
      "execution_count": 34,
      "outputs": [
        {
          "output_type": "stream",
          "name": "stdout",
          "text": [
            "<class 'str'>\n",
            "22\n"
          ]
        }
      ]
    },
    {
      "cell_type": "code",
      "source": [
        "Minha_String[0]"
      ],
      "metadata": {
        "colab": {
          "base_uri": "https://localhost:8080/",
          "height": 35
        },
        "id": "HvHRggvBeNkW",
        "outputId": "940af416-ff24-4c33-8911-e9bfabd0cef4"
      },
      "execution_count": 35,
      "outputs": [
        {
          "output_type": "execute_result",
          "data": {
            "text/plain": [
              "'A'"
            ],
            "application/vnd.google.colaboratory.intrinsic+json": {
              "type": "string"
            }
          },
          "metadata": {},
          "execution_count": 35
        }
      ]
    },
    {
      "cell_type": "code",
      "source": [
        "Minha_String[1]"
      ],
      "metadata": {
        "colab": {
          "base_uri": "https://localhost:8080/",
          "height": 35
        },
        "id": "I8M3op2GeTJE",
        "outputId": "1426e57f-5aad-41db-d8ec-7f70195679ce"
      },
      "execution_count": 36,
      "outputs": [
        {
          "output_type": "execute_result",
          "data": {
            "text/plain": [
              "'p'"
            ],
            "application/vnd.google.colaboratory.intrinsic+json": {
              "type": "string"
            }
          },
          "metadata": {},
          "execution_count": 36
        }
      ]
    },
    {
      "cell_type": "code",
      "source": [
        "Minha_String[-1]"
      ],
      "metadata": {
        "colab": {
          "base_uri": "https://localhost:8080/",
          "height": 35
        },
        "id": "Ry6fqk0-eoO0",
        "outputId": "a6bb5cab-f62e-4ff8-8b4b-68cae1fde630"
      },
      "execution_count": 37,
      "outputs": [
        {
          "output_type": "execute_result",
          "data": {
            "text/plain": [
              "'!'"
            ],
            "application/vnd.google.colaboratory.intrinsic+json": {
              "type": "string"
            }
          },
          "metadata": {},
          "execution_count": 37
        }
      ]
    },
    {
      "cell_type": "code",
      "source": [
        "Minha_String[-10:]"
      ],
      "metadata": {
        "colab": {
          "base_uri": "https://localhost:8080/",
          "height": 35
        },
        "id": "fnPuD9MWesQD",
        "outputId": "b9acc04e-6b49-494e-d7e8-88eb4bf40d9b"
      },
      "execution_count": 38,
      "outputs": [
        {
          "output_type": "execute_result",
          "data": {
            "text/plain": [
              "'hon é Top!'"
            ],
            "application/vnd.google.colaboratory.intrinsic+json": {
              "type": "string"
            }
          },
          "metadata": {},
          "execution_count": 38
        }
      ]
    },
    {
      "cell_type": "code",
      "source": [
        "Minha_String[0:10]"
      ],
      "metadata": {
        "colab": {
          "base_uri": "https://localhost:8080/",
          "height": 35
        },
        "id": "JUazyWQbevt0",
        "outputId": "d2738c5b-606f-4a34-dab2-eee7df5bcc7f"
      },
      "execution_count": 39,
      "outputs": [
        {
          "output_type": "execute_result",
          "data": {
            "text/plain": [
              "'Aprender P'"
            ],
            "application/vnd.google.colaboratory.intrinsic+json": {
              "type": "string"
            }
          },
          "metadata": {},
          "execution_count": 39
        }
      ]
    },
    {
      "cell_type": "code",
      "source": [
        "#manipular strings\n",
        "#replace()  --> substituir\n",
        "#startswith() --> compara com o início da string\n",
        "#endswith() --> compara com o fim da string\n",
        "#count()   --> contar palavras/letras\n",
        "#capitalize()  --> transformação\n",
        "#isdigit()   --> verifica se existe apenas valr numérico\n",
        "#isalnum()   -->  verifica se é alfanumerico\n",
        "#upper()  -->  trasnforma em maiúsculo\n",
        "#lower()  -->  transf em minúsculo\n",
        "#find()  -->  busca a localização na String\n",
        "#strip()  -->  remove espaço do início e fim de frases/palavras na string\n",
        "#split()  -->  "
      ],
      "metadata": {
        "id": "Ewkh61HXe6Nc"
      },
      "execution_count": 40,
      "outputs": []
    },
    {
      "cell_type": "code",
      "source": [
        "String='Olá Mundo!'\n",
        "print(String)"
      ],
      "metadata": {
        "colab": {
          "base_uri": "https://localhost:8080/"
        },
        "id": "95YKdWp2kg3d",
        "outputId": "b1ee2d4b-0c63-4281-d17f-625916865570"
      },
      "execution_count": 92,
      "outputs": [
        {
          "output_type": "stream",
          "name": "stdout",
          "text": [
            "Olá Mundo!\n"
          ]
        }
      ]
    },
    {
      "cell_type": "code",
      "source": [
        "len(String)"
      ],
      "metadata": {
        "colab": {
          "base_uri": "https://localhost:8080/"
        },
        "id": "-iUT2WEToiDF",
        "outputId": "547d37e1-f33a-4297-eeaa-e9e79947a430"
      },
      "execution_count": 42,
      "outputs": [
        {
          "output_type": "execute_result",
          "data": {
            "text/plain": [
              "10"
            ]
          },
          "metadata": {},
          "execution_count": 42
        }
      ]
    },
    {
      "cell_type": "code",
      "source": [
        "type(String)"
      ],
      "metadata": {
        "colab": {
          "base_uri": "https://localhost:8080/"
        },
        "id": "NDjJBRMjomy-",
        "outputId": "5fc44f3e-e35d-4d8f-9329-afdd71e9968d"
      },
      "execution_count": 43,
      "outputs": [
        {
          "output_type": "execute_result",
          "data": {
            "text/plain": [
              "str"
            ]
          },
          "metadata": {},
          "execution_count": 43
        }
      ]
    },
    {
      "cell_type": "code",
      "source": [
        "String + 'concat'"
      ],
      "metadata": {
        "colab": {
          "base_uri": "https://localhost:8080/",
          "height": 35
        },
        "id": "qZNa3yA3qKI7",
        "outputId": "55aef7c7-c4b2-4bf8-d20d-f230602de706"
      },
      "execution_count": 44,
      "outputs": [
        {
          "output_type": "execute_result",
          "data": {
            "text/plain": [
              "'Olá Mundo!concat'"
            ],
            "application/vnd.google.colaboratory.intrinsic+json": {
              "type": "string"
            }
          },
          "metadata": {},
          "execution_count": 44
        }
      ]
    },
    {
      "cell_type": "code",
      "source": [
        "String.replace('Mundo','MUNDO') # altera apenas no comando, a String permanece com o valor original"
      ],
      "metadata": {
        "colab": {
          "base_uri": "https://localhost:8080/",
          "height": 35
        },
        "id": "lCP71kZYqes6",
        "outputId": "0de2cb33-7693-4871-fdee-9cc633f3a472"
      },
      "execution_count": 45,
      "outputs": [
        {
          "output_type": "execute_result",
          "data": {
            "text/plain": [
              "'Olá MUNDO!'"
            ],
            "application/vnd.google.colaboratory.intrinsic+json": {
              "type": "string"
            }
          },
          "metadata": {},
          "execution_count": 45
        }
      ]
    },
    {
      "cell_type": "code",
      "source": [
        "print(String)"
      ],
      "metadata": {
        "colab": {
          "base_uri": "https://localhost:8080/"
        },
        "id": "JniKszEgq8WM",
        "outputId": "1b068f11-5668-4673-ba82-0abbc67b1beb"
      },
      "execution_count": 46,
      "outputs": [
        {
          "output_type": "stream",
          "name": "stdout",
          "text": [
            "Olá Mundo!\n"
          ]
        }
      ]
    },
    {
      "cell_type": "code",
      "source": [
        "String.startswith('Ola')"
      ],
      "metadata": {
        "colab": {
          "base_uri": "https://localhost:8080/"
        },
        "id": "OQjz9Y3JrtZb",
        "outputId": "bc3aa0d5-6037-4cbb-ff47-a0c2ceda22fc"
      },
      "execution_count": 48,
      "outputs": [
        {
          "output_type": "execute_result",
          "data": {
            "text/plain": [
              "False"
            ]
          },
          "metadata": {},
          "execution_count": 48
        }
      ]
    },
    {
      "cell_type": "code",
      "source": [
        "String.endswith('o!')"
      ],
      "metadata": {
        "colab": {
          "base_uri": "https://localhost:8080/"
        },
        "id": "eSYImlCmr6jS",
        "outputId": "d7e49698-fc5b-4467-b73d-684d71ac90b2"
      },
      "execution_count": 49,
      "outputs": [
        {
          "output_type": "execute_result",
          "data": {
            "text/plain": [
              "True"
            ]
          },
          "metadata": {},
          "execution_count": 49
        }
      ]
    },
    {
      "cell_type": "code",
      "source": [
        "String.count('á')"
      ],
      "metadata": {
        "colab": {
          "base_uri": "https://localhost:8080/"
        },
        "id": "Vf1182o7tuKM",
        "outputId": "cb8a652d-a7de-4b56-c188-1d945ee3029c"
      },
      "execution_count": 65,
      "outputs": [
        {
          "output_type": "execute_result",
          "data": {
            "text/plain": [
              "1"
            ]
          },
          "metadata": {},
          "execution_count": 65
        }
      ]
    },
    {
      "cell_type": "code",
      "source": [
        "Nome = 'arthur'"
      ],
      "metadata": {
        "id": "Sagz2tjVuhpb"
      },
      "execution_count": 73,
      "outputs": []
    },
    {
      "cell_type": "code",
      "source": [
        "Nome.capitalize()"
      ],
      "metadata": {
        "colab": {
          "base_uri": "https://localhost:8080/",
          "height": 35
        },
        "id": "xp-sdHo-urCj",
        "outputId": "2ee1b9b9-90c0-4a40-d53c-c6561570d51a"
      },
      "execution_count": 77,
      "outputs": [
        {
          "output_type": "execute_result",
          "data": {
            "text/plain": [
              "'Arthur'"
            ],
            "application/vnd.google.colaboratory.intrinsic+json": {
              "type": "string"
            }
          },
          "metadata": {},
          "execution_count": 77
        }
      ]
    },
    {
      "cell_type": "code",
      "source": [
        "print(Nome.capitalize())"
      ],
      "metadata": {
        "colab": {
          "base_uri": "https://localhost:8080/"
        },
        "id": "tXMVbBrnvD2S",
        "outputId": "ae79508f-df56-4897-d50c-1faf39cab7ad"
      },
      "execution_count": 79,
      "outputs": [
        {
          "output_type": "stream",
          "name": "stdout",
          "text": [
            "Arthur\n"
          ]
        }
      ]
    },
    {
      "cell_type": "code",
      "source": [
        "String_SPF ='123456789'"
      ],
      "metadata": {
        "id": "f3cSGgYxvTqA"
      },
      "execution_count": 85,
      "outputs": []
    },
    {
      "cell_type": "code",
      "source": [
        "String_SPF.isdigit()"
      ],
      "metadata": {
        "colab": {
          "base_uri": "https://localhost:8080/"
        },
        "id": "pC2BaEUow2TY",
        "outputId": "7e50010d-6d3e-4cc7-d155-65ea63424b32"
      },
      "execution_count": 86,
      "outputs": [
        {
          "output_type": "execute_result",
          "data": {
            "text/plain": [
              "True"
            ]
          },
          "metadata": {},
          "execution_count": 86
        }
      ]
    },
    {
      "cell_type": "code",
      "source": [
        "stg = 'abc123'\n",
        "\n",
        "stg.isalnum()"
      ],
      "metadata": {
        "colab": {
          "base_uri": "https://localhost:8080/"
        },
        "id": "tEe56YUX64N0",
        "outputId": "85b71ab4-724f-49ec-92d4-61f3e68d169b"
      },
      "execution_count": 95,
      "outputs": [
        {
          "output_type": "execute_result",
          "data": {
            "text/plain": [
              "True"
            ]
          },
          "metadata": {},
          "execution_count": 95
        }
      ]
    },
    {
      "cell_type": "code",
      "source": [
        "print(nome.upper())"
      ],
      "metadata": {
        "colab": {
          "base_uri": "https://localhost:8080/"
        },
        "id": "g40MXNAm7eYz",
        "outputId": "82a6b1f6-9974-49b0-c598-917e0e9c16a8"
      },
      "execution_count": 98,
      "outputs": [
        {
          "output_type": "stream",
          "name": "stdout",
          "text": [
            "ART\n"
          ]
        }
      ]
    },
    {
      "cell_type": "code",
      "source": [
        "nom = 'ART'\n",
        "print(nom)"
      ],
      "metadata": {
        "colab": {
          "base_uri": "https://localhost:8080/"
        },
        "id": "HAxMovVt7yw1",
        "outputId": "17eeaec1-cb9c-4b36-e531-797ef49b82d1"
      },
      "execution_count": 101,
      "outputs": [
        {
          "output_type": "stream",
          "name": "stdout",
          "text": [
            "ART\n"
          ]
        }
      ]
    },
    {
      "cell_type": "code",
      "source": [
        "iprint(nom.lower())"
      ],
      "metadata": {
        "colab": {
          "base_uri": "https://localhost:8080/"
        },
        "id": "gHvOWMWH7_TB",
        "outputId": "8d6bb208-1ba4-4389-9814-5cb5f57299e2"
      },
      "execution_count": 103,
      "outputs": [
        {
          "output_type": "stream",
          "name": "stdout",
          "text": [
            "art\n"
          ]
        }
      ]
    },
    {
      "cell_type": "code",
      "source": [
        "String.find('Mundo')"
      ],
      "metadata": {
        "colab": {
          "base_uri": "https://localhost:8080/"
        },
        "id": "dKMGnwaR8HxR",
        "outputId": "23b8fcfd-5fce-493a-d614-901f89f5f0c5"
      },
      "execution_count": 116,
      "outputs": [
        {
          "output_type": "execute_result",
          "data": {
            "text/plain": [
              "4"
            ]
          },
          "metadata": {},
          "execution_count": 116
        }
      ]
    },
    {
      "cell_type": "code",
      "source": [
        "end =' R Alexandria 1, SP '\n",
        "end"
      ],
      "metadata": {
        "colab": {
          "base_uri": "https://localhost:8080/",
          "height": 35
        },
        "id": "jgYhvauQ-Ba3",
        "outputId": "38930948-1dad-45f1-9dda-e231918a5c1c"
      },
      "execution_count": 118,
      "outputs": [
        {
          "output_type": "execute_result",
          "data": {
            "text/plain": [
              "' R Alexandria 1, SP '"
            ],
            "application/vnd.google.colaboratory.intrinsic+json": {
              "type": "string"
            }
          },
          "metadata": {},
          "execution_count": 118
        }
      ]
    },
    {
      "cell_type": "code",
      "source": [
        "end.strip()"
      ],
      "metadata": {
        "colab": {
          "base_uri": "https://localhost:8080/",
          "height": 35
        },
        "id": "6NGgGQBT-M_R",
        "outputId": "49ad1802-c992-4656-a441-de56fc972109"
      },
      "execution_count": 124,
      "outputs": [
        {
          "output_type": "execute_result",
          "data": {
            "text/plain": [
              "'R Alexandria 1, SP'"
            ],
            "application/vnd.google.colaboratory.intrinsic+json": {
              "type": "string"
            }
          },
          "metadata": {},
          "execution_count": 124
        }
      ]
    },
    {
      "cell_type": "code",
      "source": [
        "palavra = 'Rua Augusta, 150, Centro, SP'"
      ],
      "metadata": {
        "id": "TKWecsH8-cae"
      },
      "execution_count": 7,
      "outputs": []
    },
    {
      "cell_type": "code",
      "source": [
        "palavra.split(',')"
      ],
      "metadata": {
        "colab": {
          "base_uri": "https://localhost:8080/"
        },
        "id": "i87yw31X-xmG",
        "outputId": "95eda2ae-64e4-40ea-808d-a01cffafe7d1"
      },
      "execution_count": 9,
      "outputs": [
        {
          "output_type": "execute_result",
          "data": {
            "text/plain": [
              "['Rua Augusta', ' 150', ' Centro', ' SP']"
            ]
          },
          "metadata": {},
          "execution_count": 9
        }
      ]
    },
    {
      "cell_type": "code",
      "source": [
        "#input\n",
        "input ('alguma mensagem!!!')"
      ],
      "metadata": {
        "colab": {
          "base_uri": "https://localhost:8080/",
          "height": 53
        },
        "id": "d8htYGRZHRrV",
        "outputId": "1de51823-083f-4a74-94fb-95d72059552c"
      },
      "execution_count": 10,
      "outputs": [
        {
          "name": "stdout",
          "output_type": "stream",
          "text": [
            "alguma mensagem!!!teste\n"
          ]
        },
        {
          "output_type": "execute_result",
          "data": {
            "text/plain": [
              "'teste'"
            ],
            "application/vnd.google.colaboratory.intrinsic+json": {
              "type": "string"
            }
          },
          "metadata": {},
          "execution_count": 10
        }
      ]
    },
    {
      "cell_type": "code",
      "source": [
        "#Form\n",
        "nome = input ('Qual seu nome: ')\n",
        "idade = input ('Qual sua idade: ')\n",
        "\n",
        "print('Seu nome é:', nome)\n",
        "print('Sua idade é:', idade)"
      ],
      "metadata": {
        "colab": {
          "base_uri": "https://localhost:8080/"
        },
        "id": "pYN1i9YNHa5t",
        "outputId": "9eea05ed-e363-4787-b458-700f0f078ddb"
      },
      "execution_count": 13,
      "outputs": [
        {
          "output_type": "stream",
          "name": "stdout",
          "text": [
            "Qual seu nome: Arthur\n",
            "Qual sua idade: 50\n",
            "Seu nome é: Arthur\n",
            "Sua idade é: 50\n"
          ]
        }
      ]
    },
    {
      "cell_type": "markdown",
      "source": [
        "Lógica \n",
        "'==' (igual a)\n",
        "'!= (diferente)\n",
        "'>' (maior)\n",
        "'<' (menor)\n",
        "'>=' (maior ou igual a )\n",
        "'<=' (menor ou ihual a)"
      ],
      "metadata": {
        "id": "uHTkL8kvIWjT"
      }
    },
    {
      "cell_type": "code",
      "source": [
        "10 <= 11"
      ],
      "metadata": {
        "colab": {
          "base_uri": "https://localhost:8080/"
        },
        "id": "-DLbf8vEIQ8r",
        "outputId": "2cfce750-9fcb-4780-d08a-38858d9ebd01"
      },
      "execution_count": 21,
      "outputs": [
        {
          "output_type": "execute_result",
          "data": {
            "text/plain": [
              "True"
            ]
          },
          "metadata": {},
          "execution_count": 21
        }
      ]
    },
    {
      "cell_type": "code",
      "source": [
        "#Operador lógicos   (and, or, not in, in)\n",
        "2 == 2 and 1 < 5"
      ],
      "metadata": {
        "colab": {
          "base_uri": "https://localhost:8080/"
        },
        "id": "b9eCXtePJYkI",
        "outputId": "34748c97-da3b-4820-e3d5-5cadf2daea78"
      },
      "execution_count": 28,
      "outputs": [
        {
          "output_type": "execute_result",
          "data": {
            "text/plain": [
              "True"
            ]
          },
          "metadata": {},
          "execution_count": 28
        }
      ]
    },
    {
      "cell_type": "code",
      "source": [
        "2 < 2 or 1 == 1"
      ],
      "metadata": {
        "colab": {
          "base_uri": "https://localhost:8080/"
        },
        "id": "pQukCAbZLa9r",
        "outputId": "b8cba6e2-b83b-4b74-d590-63b688e5e53e"
      },
      "execution_count": 33,
      "outputs": [
        {
          "output_type": "execute_result",
          "data": {
            "text/plain": [
              "True"
            ]
          },
          "metadata": {},
          "execution_count": 33
        }
      ]
    },
    {
      "cell_type": "code",
      "source": [
        "lista = [1,2,3,4]"
      ],
      "metadata": {
        "id": "5RyD5OR-MFMv"
      },
      "execution_count": 34,
      "outputs": []
    },
    {
      "cell_type": "code",
      "source": [
        "2 not in lista"
      ],
      "metadata": {
        "colab": {
          "base_uri": "https://localhost:8080/"
        },
        "id": "cGKwq32xMLEF",
        "outputId": "571ad6e6-c438-4096-9b74-9512357e1ebb"
      },
      "execution_count": 36,
      "outputs": [
        {
          "output_type": "execute_result",
          "data": {
            "text/plain": [
              "False"
            ]
          },
          "metadata": {},
          "execution_count": 36
        }
      ]
    },
    {
      "cell_type": "code",
      "source": [
        "2 in lista"
      ],
      "metadata": {
        "colab": {
          "base_uri": "https://localhost:8080/"
        },
        "id": "nFG6Q7QnMdnN",
        "outputId": "7351fbf9-031a-4ae7-be4b-465544de7a2a"
      },
      "execution_count": 37,
      "outputs": [
        {
          "output_type": "execute_result",
          "data": {
            "text/plain": [
              "True"
            ]
          },
          "metadata": {},
          "execution_count": 37
        }
      ]
    },
    {
      "cell_type": "code",
      "source": [
        "#Operadores de Identidade"
      ],
      "metadata": {
        "id": "_rjGwl2IMfuv"
      },
      "execution_count": 38,
      "outputs": []
    }
  ]
}
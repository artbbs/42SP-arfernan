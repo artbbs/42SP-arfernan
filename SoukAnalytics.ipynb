{
  "nbformat": 4,
  "nbformat_minor": 0,
  "metadata": {
    "colab": {
      "name": "SoukAnalytics.ipynb",
      "provenance": [],
      "authorship_tag": "ABX9TyOr+FlAc5OQxkT5G65HzLeM",
      "include_colab_link": true
    },
    "kernelspec": {
      "name": "python3",
      "display_name": "Python 3"
    },
    "language_info": {
      "name": "python"
    }
  },
  "cells": [
    {
      "cell_type": "markdown",
      "metadata": {
        "id": "view-in-github",
        "colab_type": "text"
      },
      "source": [
        "<a href=\"https://colab.research.google.com/github/artbbs/42SP-arfernan/blob/main/SoukAnalytics.ipynb\" target=\"_parent\"><img src=\"https://colab.research.google.com/assets/colab-badge.svg\" alt=\"Open In Colab\"/></a>"
      ]
    },
    {
      "cell_type": "code",
      "execution_count": 7,
      "metadata": {
        "colab": {
          "base_uri": "https://localhost:8080/"
        },
        "id": "QAtnXXwV2NN_",
        "outputId": "3469baf2-cf61-4315-f2f0-1ec9d2cda042"
      },
      "outputs": [
        {
          "output_type": "stream",
          "name": "stdout",
          "text": [
            "bem vindo ao curso  de Python\n"
          ]
        }
      ],
      "source": [
        "print(\"bem vindo ao curso  de Python\")"
      ]
    },
    {
      "cell_type": "code",
      "source": [
        "print ('Bem vindo\\n devolta')"
      ],
      "metadata": {
        "colab": {
          "base_uri": "https://localhost:8080/"
        },
        "id": "0xoksPij85QO",
        "outputId": "a1f92980-7cf2-4f32-c550-3c79838e88eb"
      },
      "execution_count": 6,
      "outputs": [
        {
          "output_type": "stream",
          "name": "stdout",
          "text": [
            "Bem vindo\n",
            " devolta\n"
          ]
        }
      ]
    },
    {
      "cell_type": "code",
      "source": [
        "(2 + 2) * 5"
      ],
      "metadata": {
        "colab": {
          "base_uri": "https://localhost:8080/"
        },
        "id": "m9DC2Ia5_O36",
        "outputId": "1830f786-f031-492a-8427-bafcb58c6538"
      },
      "execution_count": 25,
      "outputs": [
        {
          "output_type": "execute_result",
          "data": {
            "text/plain": [
              "20"
            ]
          },
          "metadata": {},
          "execution_count": 25
        }
      ]
    },
    {
      "cell_type": "code",
      "source": [
        "nome = 'Um nome'"
      ],
      "metadata": {
        "id": "BCuzuluZBXdn"
      },
      "execution_count": 26,
      "outputs": []
    },
    {
      "cell_type": "code",
      "source": [
        "nome "
      ],
      "metadata": {
        "colab": {
          "base_uri": "https://localhost:8080/",
          "height": 35
        },
        "id": "Cbt3mYRiBd8i",
        "outputId": "5f228416-850d-4ff6-e2f0-b484706fa92c"
      },
      "execution_count": 27,
      "outputs": [
        {
          "output_type": "execute_result",
          "data": {
            "text/plain": [
              "'Um nome'"
            ],
            "application/vnd.google.colaboratory.intrinsic+json": {
              "type": "string"
            }
          },
          "metadata": {},
          "execution_count": 27
        }
      ]
    },
    {
      "cell_type": "code",
      "source": [
        "estudo ='sempre'"
      ],
      "metadata": {
        "id": "pZslPCNiBr7h"
      },
      "execution_count": 31,
      "outputs": []
    },
    {
      "cell_type": "code",
      "source": [
        "estudo"
      ],
      "metadata": {
        "colab": {
          "base_uri": "https://localhost:8080/",
          "height": 35
        },
        "id": "jT5oINRMBtyH",
        "outputId": "9f98e109-293b-409c-b3bb-c9dd507c28be"
      },
      "execution_count": 32,
      "outputs": [
        {
          "output_type": "execute_result",
          "data": {
            "text/plain": [
              "'sempre'"
            ],
            "application/vnd.google.colaboratory.intrinsic+json": {
              "type": "string"
            }
          },
          "metadata": {},
          "execution_count": 32
        }
      ]
    },
    {
      "cell_type": "code",
      "source": [
        ""
      ],
      "metadata": {
        "id": "xZMKnrygB6Dn"
      },
      "execution_count": null,
      "outputs": []
    }
  ]
}
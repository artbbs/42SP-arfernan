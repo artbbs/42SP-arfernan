{
  "nbformat": 4,
  "nbformat_minor": 0,
  "metadata": {
    "colab": {
      "name": "SoukAnalytics.ipynb",
      "provenance": [],
      "authorship_tag": "ABX9TyNz5l8QuLj7VolPtcotDn0I",
      "include_colab_link": true
    },
    "kernelspec": {
      "name": "python3",
      "display_name": "Python 3"
    },
    "language_info": {
      "name": "python"
    }
  },
  "cells": [
    {
      "cell_type": "markdown",
      "metadata": {
        "id": "view-in-github",
        "colab_type": "text"
      },
      "source": [
        "<a href=\"https://colab.research.google.com/github/artbbs/42SP-arfernan/blob/main/SoukAnalytics.ipynb\" target=\"_parent\"><img src=\"https://colab.research.google.com/assets/colab-badge.svg\" alt=\"Open In Colab\"/></a>"
      ]
    },
    {
      "cell_type": "code",
      "execution_count": null,
      "metadata": {
        "colab": {
          "base_uri": "https://localhost:8080/"
        },
        "id": "QAtnXXwV2NN_",
        "outputId": "eecff167-2753-4ea5-c871-b454052e9cae"
      },
      "outputs": [
        {
          "output_type": "stream",
          "name": "stdout",
          "text": [
            "bem vindo ao curso  de Python\n"
          ]
        }
      ],
      "source": [
        "print(\"bem vindo ao curso  de Python\")"
      ]
    },
    {
      "cell_type": "code",
      "source": [
        "print ('Bem vindo\\n devolta')"
      ],
      "metadata": {
        "colab": {
          "base_uri": "https://localhost:8080/"
        },
        "id": "0xoksPij85QO",
        "outputId": "e410f838-2ee3-4bac-b250-dc70df13a86e"
      },
      "execution_count": null,
      "outputs": [
        {
          "output_type": "stream",
          "name": "stdout",
          "text": [
            "Bem vindo\n",
            " devolta\n"
          ]
        }
      ]
    },
    {
      "cell_type": "code",
      "source": [
        "(2 + 2) * 5"
      ],
      "metadata": {
        "colab": {
          "base_uri": "https://localhost:8080/"
        },
        "id": "m9DC2Ia5_O36",
        "outputId": "a5cf7ae9-4f8f-40d2-d83b-22d7d3e0b601"
      },
      "execution_count": null,
      "outputs": [
        {
          "output_type": "execute_result",
          "data": {
            "text/plain": [
              "20"
            ]
          },
          "metadata": {},
          "execution_count": 98
        }
      ]
    },
    {
      "cell_type": "code",
      "source": [
        "nome = 'Um nome'"
      ],
      "metadata": {
        "id": "BCuzuluZBXdn"
      },
      "execution_count": null,
      "outputs": []
    },
    {
      "cell_type": "code",
      "source": [
        "nome "
      ],
      "metadata": {
        "colab": {
          "base_uri": "https://localhost:8080/",
          "height": 35
        },
        "id": "Cbt3mYRiBd8i",
        "outputId": "80b4ab60-b038-46be-b19c-c6620958968a"
      },
      "execution_count": null,
      "outputs": [
        {
          "output_type": "execute_result",
          "data": {
            "text/plain": [
              "'Um nome'"
            ],
            "application/vnd.google.colaboratory.intrinsic+json": {
              "type": "string"
            }
          },
          "metadata": {},
          "execution_count": 100
        }
      ]
    },
    {
      "cell_type": "code",
      "source": [
        "estudo = str ('avaliação 99')"
      ],
      "metadata": {
        "id": "pZslPCNiBr7h"
      },
      "execution_count": null,
      "outputs": []
    },
    {
      "cell_type": "code",
      "source": [
        "estudo"
      ],
      "metadata": {
        "colab": {
          "base_uri": "https://localhost:8080/",
          "height": 35
        },
        "id": "jT5oINRMBtyH",
        "outputId": "f70ce880-065f-47f9-e0cd-d23d5b4b1924"
      },
      "execution_count": null,
      "outputs": [
        {
          "output_type": "execute_result",
          "data": {
            "text/plain": [
              "'avaliação 99'"
            ],
            "application/vnd.google.colaboratory.intrinsic+json": {
              "type": "string"
            }
          },
          "metadata": {},
          "execution_count": 102
        }
      ]
    },
    {
      "cell_type": "code",
      "source": [
        "numeros = 111\n",
        "numero = int (100)\n",
        "print (numeros, numero, numero, numeros)"
      ],
      "metadata": {
        "colab": {
          "base_uri": "https://localhost:8080/"
        },
        "id": "xZMKnrygB6Dn",
        "outputId": "89a82742-672b-4215-f6a3-12b494d887b9"
      },
      "execution_count": null,
      "outputs": [
        {
          "output_type": "stream",
          "name": "stdout",
          "text": [
            "111 100 100 111\n"
          ]
        }
      ]
    },
    {
      "cell_type": "code",
      "source": [
        "numeros"
      ],
      "metadata": {
        "colab": {
          "base_uri": "https://localhost:8080/"
        },
        "id": "h-wGy-DvEgW7",
        "outputId": "e3fc7664-23b1-474f-9041-039e48e37c69"
      },
      "execution_count": null,
      "outputs": [
        {
          "output_type": "execute_result",
          "data": {
            "text/plain": [
              "111"
            ]
          },
          "metadata": {},
          "execution_count": 104
        }
      ]
    },
    {
      "cell_type": "code",
      "source": [
        "flutuant = 11.20\n",
        "flutuante = float (12.20)\n",
        "print(flutuant, flutuante)"
      ],
      "metadata": {
        "colab": {
          "base_uri": "https://localhost:8080/"
        },
        "id": "eZC0nLNPFBRd",
        "outputId": "3014f20f-a113-4a3f-8ada-8c46d766baf4"
      },
      "execution_count": null,
      "outputs": [
        {
          "output_type": "stream",
          "name": "stdout",
          "text": [
            "11.2 12.2\n"
          ]
        }
      ]
    },
    {
      "cell_type": "code",
      "source": [
        "boole = True\n",
        "boolean = False\n",
        "print(boole, boolean)"
      ],
      "metadata": {
        "colab": {
          "base_uri": "https://localhost:8080/"
        },
        "id": "n8GEKQIZFrTE",
        "outputId": "5ad3205d-d591-440c-b562-31902f1315e4"
      },
      "execution_count": null,
      "outputs": [
        {
          "output_type": "stream",
          "name": "stdout",
          "text": [
            "True False\n"
          ]
        }
      ]
    },
    {
      "cell_type": "code",
      "source": [
        "'''\n",
        "Tipos de dados\n",
        "Listas Colchetes []\n",
        "Tuplas Parênteses ()\n",
        "Dicionários Chaves {}\n",
        "'''"
      ],
      "metadata": {
        "colab": {
          "base_uri": "https://localhost:8080/",
          "height": 35
        },
        "id": "yepQAgSFGdPH",
        "outputId": "08c55c35-7011-4e54-ad68-eff052e0deaf"
      },
      "execution_count": null,
      "outputs": [
        {
          "output_type": "execute_result",
          "data": {
            "text/plain": [
              "'\\nTipos de dados\\nListas Colchetes []\\nTuplas Parênteses ()\\nDicionários Chaves {}\\n'"
            ],
            "application/vnd.google.colaboratory.intrinsic+json": {
              "type": "string"
            }
          },
          "metadata": {},
          "execution_count": 107
        }
      ]
    },
    {
      "cell_type": "code",
      "source": [
        "numero, nome, outro = '1', 'oleo', '4'\n",
        "print (numero, outro)"
      ],
      "metadata": {
        "colab": {
          "base_uri": "https://localhost:8080/"
        },
        "id": "nxNidCwUGyxw",
        "outputId": "ed91fc02-b3f0-4f39-842d-8ca068bca27a"
      },
      "execution_count": null,
      "outputs": [
        {
          "output_type": "stream",
          "name": "stdout",
          "text": [
            "1 4\n"
          ]
        }
      ]
    },
    {
      "cell_type": "code",
      "source": [
        "numer = nom = oth = 100\n",
        "print (nom, oth)"
      ],
      "metadata": {
        "colab": {
          "base_uri": "https://localhost:8080/"
        },
        "id": "YS5fhTusKvJB",
        "outputId": "0b2d5206-2ce6-4bfe-9e04-b9744b53fa3e"
      },
      "execution_count": null,
      "outputs": [
        {
          "output_type": "stream",
          "name": "stdout",
          "text": [
            "100 100\n"
          ]
        }
      ]
    },
    {
      "cell_type": "code",
      "source": [
        "lista_carros = ('vw', 'audi', 'tesla')\n",
        "marca01, marca02, marca03 = lista_carros\n",
        "print (marca01, marca02, marca03)"
      ],
      "metadata": {
        "colab": {
          "base_uri": "https://localhost:8080/"
        },
        "id": "mJURgQ6sLXcn",
        "outputId": "b37332f8-3750-47ce-ee62-82b79a82620c"
      },
      "execution_count": null,
      "outputs": [
        {
          "output_type": "stream",
          "name": "stdout",
          "text": [
            "vw audi tesla\n"
          ]
        }
      ]
    },
    {
      "cell_type": "code",
      "source": [
        "print (marca01)"
      ],
      "metadata": {
        "colab": {
          "base_uri": "https://localhost:8080/"
        },
        "id": "OjMgMCwQL1Z1",
        "outputId": "e5914201-b438-451c-b996-7d36a350153c"
      },
      "execution_count": null,
      "outputs": [
        {
          "output_type": "stream",
          "name": "stdout",
          "text": [
            "vw\n"
          ]
        }
      ]
    },
    {
      "cell_type": "code",
      "source": [
        "nome = 'art'\n",
        "sobrenome = 'barb'\n",
        "nome_completo = nome +' ' + outro + '_ ' + sobrenome + nome\n",
        "print (nome_completo)"
      ],
      "metadata": {
        "colab": {
          "base_uri": "https://localhost:8080/"
        },
        "id": "1RgagbGfL42u",
        "outputId": "508dc021-d468-404f-e5f8-00846c2db47f"
      },
      "execution_count": null,
      "outputs": [
        {
          "output_type": "stream",
          "name": "stdout",
          "text": [
            "art 4_ barbart\n"
          ]
        }
      ]
    },
    {
      "cell_type": "code",
      "source": [
        "nome = 'art'\n",
        "idade = str (50)\n",
        "nome + idade"
      ],
      "metadata": {
        "colab": {
          "base_uri": "https://localhost:8080/",
          "height": 35
        },
        "id": "_6Ocw6iRNJKj",
        "outputId": "63d575e7-38d7-45eb-93e8-550ab31218d8"
      },
      "execution_count": null,
      "outputs": [
        {
          "output_type": "execute_result",
          "data": {
            "text/plain": [
              "'art50'"
            ],
            "application/vnd.google.colaboratory.intrinsic+json": {
              "type": "string"
            }
          },
          "metadata": {},
          "execution_count": 118
        }
      ]
    },
    {
      "cell_type": "code",
      "source": [
        "invest = 1000\n",
        "txJur = float('0.2')\n",
        "\n",
        "\n",
        "print (invest * txJur)\n",
        "\n",
        "ganho = invest * txJur - invest\n",
        "\n",
        "print (ganho)"
      ],
      "metadata": {
        "colab": {
          "base_uri": "https://localhost:8080/"
        },
        "id": "FdcU_whRNjy8",
        "outputId": "bb110da0-4380-4569-8c5a-648494b589f2"
      },
      "execution_count": null,
      "outputs": [
        {
          "output_type": "stream",
          "name": "stdout",
          "text": [
            "200.0\n",
            "-800.0\n"
          ]
        }
      ]
    }
  ]
}